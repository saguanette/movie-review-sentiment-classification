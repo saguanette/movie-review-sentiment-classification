{
  "nbformat": 4,
  "nbformat_minor": 0,
  "metadata": {
    "colab": {
      "provenance": []
    },
    "kernelspec": {
      "name": "python3",
      "display_name": "Python 3"
    },
    "language_info": {
      "name": "python"
    }
  },
  "cells": [
    {
      "cell_type": "markdown",
      "source": [
        "# Movie Review Sentiment Classifier\n",
        "\n",
        ">This notebook presents a **sentiment classification** project using the IMDB movie reviews dataset, which contains 50,000 labeled reviews categorized as positive or negative.\n",
        ">Text data is preprocessed and transformed using  **TF-IDF vectorization** and three machine learning models are trained: **Logistic Regression, Naive Bayes, and Support Vector Classifier (SVC)**.\n",
        ">**Gradio** is used to provide a simple interface that allows users to input movie reviews and see predicted sentiments from each classifier in real-time.\n"
      ],
      "metadata": {
        "id": "VVhhLZm-Jgc7"
      }
    },
    {
      "cell_type": "markdown",
      "source": [
        "## Necessary Imports"
      ],
      "metadata": {
        "id": "Su9jUVq4JpKT"
      }
    },
    {
      "cell_type": "markdown",
      "source": [
        "Let's start by importing core libraries"
      ],
      "metadata": {
        "id": "2HOplN-xKQ6J"
      }
    },
    {
      "cell_type": "code",
      "source": [
        "import numpy as np\n",
        "import pandas as pd\n",
        "import matplotlib.pyplot as plt\n",
        "import seaborn as sns\n",
        "\n",
        "pd.set_option('display.max_colwidth', None)"
      ],
      "metadata": {
        "id": "6iyTzHFzJi02"
      },
      "execution_count": null,
      "outputs": []
    },
    {
      "cell_type": "markdown",
      "source": [
        "## Loading the Data"
      ],
      "metadata": {
        "id": "9xr_Tx_rMCiA"
      }
    },
    {
      "cell_type": "markdown",
      "source": [
        "The dataset downloaded from [here](https://colab.research.google.com/drive/1V75FryE0xji_vOXr9MX0tI6w76GqITwQ#scrollTo=UjCgQJ10N6Dz&line=1&uniqifier=1)"
      ],
      "metadata": {
        "id": "UjCgQJ10N6Dz"
      }
    },
    {
      "cell_type": "code",
      "source": [
        "df = pd.read_csv('IMDB Dataset.csv')"
      ],
      "metadata": {
        "id": "sfo4noqIKTUY"
      },
      "execution_count": null,
      "outputs": []
    },
    {
      "cell_type": "code",
      "source": [
        "df.head()"
      ],
      "metadata": {
        "id": "K5o-VaMzO02y",
        "colab": {
          "base_uri": "https://localhost:8080/",
          "height": 640
        },
        "outputId": "ca9f1f8a-c1ff-436a-8247-d8fd4c6b088c"
      },
      "execution_count": null,
      "outputs": [
        {
          "output_type": "execute_result",
          "data": {
            "text/plain": [
              "                                                                                                                                                                                                                                                                                                                                                                                                                                                                                                                                                                                                                                                                                                                                                                                                                                                                                                                                                                                                                                                                                                                                                                                                                                                                                                                                                                                                                                                                                                                                                                                                                                                                                                                                                                                                                              review  \\\n",
              "0  One of the other reviewers has mentioned that after watching just 1 Oz episode you'll be hooked. They are right, as this is exactly what happened with me.<br /><br />The first thing that struck me about Oz was its brutality and unflinching scenes of violence, which set in right from the word GO. Trust me, this is not a show for the faint hearted or timid. This show pulls no punches with regards to drugs, sex or violence. Its is hardcore, in the classic use of the word.<br /><br />It is called OZ as that is the nickname given to the Oswald Maximum Security State Penitentary. It focuses mainly on Emerald City, an experimental section of the prison where all the cells have glass fronts and face inwards, so privacy is not high on the agenda. Em City is home to many..Aryans, Muslims, gangstas, Latinos, Christians, Italians, Irish and more....so scuffles, death stares, dodgy dealings and shady agreements are never far away.<br /><br />I would say the main appeal of the show is due to the fact that it goes where other shows wouldn't dare. Forget pretty pictures painted for mainstream audiences, forget charm, forget romance...OZ doesn't mess around. The first episode I ever saw struck me as so nasty it was surreal, I couldn't say I was ready for it, but as I watched more, I developed a taste for Oz, and got accustomed to the high levels of graphic violence. Not just violence, but injustice (crooked guards who'll be sold out for a nickel, inmates who'll kill on order and get away with it, well mannered, middle class inmates being turned into prison bitches due to their lack of street skills or prison experience) Watching Oz, you may become comfortable with what is uncomfortable viewing....thats if you can get in touch with your darker side.   \n",
              "1                                                                                                                                                                                                                                                                                                                                                                                                                                                                                                                                                                                                                                                                                                                                                                                             A wonderful little production. <br /><br />The filming technique is very unassuming- very old-time-BBC fashion and gives a comforting, and sometimes discomforting, sense of realism to the entire piece. <br /><br />The actors are extremely well chosen- Michael Sheen not only \"has got all the polari\" but he has all the voices down pat too! You can truly see the seamless editing guided by the references to Williams' diary entries, not only is it well worth the watching but it is a terrificly written and performed piece. A masterful production about one of the great master's of comedy and his life. <br /><br />The realism really comes home with the little things: the fantasy of the guard which, rather than use the traditional 'dream' techniques remains solid then disappears. It plays on our knowledge and our senses, particularly with the scenes concerning Orton and Halliwell and the sets (particularly of their flat with Halliwell's murals decorating every surface) are terribly well done.   \n",
              "2                                                                                                                                                                                                                                                                                                                                                                                                                                                                                                                                                                                                                                                                                                                                                                                                                                                                     I thought this was a wonderful way to spend time on a too hot summer weekend, sitting in the air conditioned theater and watching a light-hearted comedy. The plot is simplistic, but the dialogue is witty and the characters are likable (even the well bread suspected serial killer). While some may be disappointed when they realize this is not Match Point 2: Risk Addiction, I thought it was proof that Woody Allen is still fully in control of the style many of us have grown to love.<br /><br />This was the most I'd laughed at one of Woody's comedies in years (dare I say a decade?). While I've never been impressed with Scarlet Johanson, in this she managed to tone down her \"sexy\" image and jumped right into a average, but spirited young woman.<br /><br />This may not be the crown jewel of his career, but it was wittier than \"Devil Wears Prada\" and more interesting than \"Superman\" a great comedy to go see with friends.   \n",
              "3                                                                                                                                                                                                                                                                                                                                                                                                                                                                                                                                                                                                                                                                                                                                                                                                                                                                                                                                                                                                                                                       Basically there's a family where a little boy (Jake) thinks there's a zombie in his closet & his parents are fighting all the time.<br /><br />This movie is slower than a soap opera... and suddenly, Jake decides to become Rambo and kill the zombie.<br /><br />OK, first of all when you're going to make a film you must Decide if its a thriller or a drama! As a drama the movie is watchable. Parents are divorcing & arguing like in real life. And then we have Jake with his closet which totally ruins all the film! I expected to see a BOOGEYMAN similar movie, and instead i watched a drama with some meaningless thriller spots.<br /><br />3 out of 10 just for the well playing parents & descent dialogs. As for the shots with Jake: just ignore them.   \n",
              "4                                                                                                                                                                                                                                                                                                                                                                                                                                                              Petter Mattei's \"Love in the Time of Money\" is a visually stunning film to watch. Mr. Mattei offers us a vivid portrait about human relations. This is a movie that seems to be telling us what money, power and success do to people in the different situations we encounter. <br /><br />This being a variation on the Arthur Schnitzler's play about the same theme, the director transfers the action to the present time New York where all these different characters meet and connect. Each one is connected in one way, or another to the next person, but no one seems to know the previous point of contact. Stylishly, the film has a sophisticated luxurious look. We are taken to see how these people live and the world they live in their own habitat.<br /><br />The only thing one gets out of all these souls in the picture is the different stages of loneliness each one inhabits. A big city is not exactly the best place in which human relations find sincere fulfillment, as one discerns is the case with most of the people we encounter.<br /><br />The acting is good under Mr. Mattei's direction. Steve Buscemi, Rosario Dawson, Carol Kane, Michael Imperioli, Adrian Grenier, and the rest of the talented cast, make these characters come alive.<br /><br />We wish Mr. Mattei good luck and await anxiously for his next work.   \n",
              "\n",
              "  sentiment  \n",
              "0  positive  \n",
              "1  positive  \n",
              "2  positive  \n",
              "3  negative  \n",
              "4  positive  "
            ],
            "text/html": [
              "\n",
              "  <div id=\"df-f5a1b2b2-4044-46ab-8556-2bc3dbd9acc2\" class=\"colab-df-container\">\n",
              "    <div>\n",
              "<style scoped>\n",
              "    .dataframe tbody tr th:only-of-type {\n",
              "        vertical-align: middle;\n",
              "    }\n",
              "\n",
              "    .dataframe tbody tr th {\n",
              "        vertical-align: top;\n",
              "    }\n",
              "\n",
              "    .dataframe thead th {\n",
              "        text-align: right;\n",
              "    }\n",
              "</style>\n",
              "<table border=\"1\" class=\"dataframe\">\n",
              "  <thead>\n",
              "    <tr style=\"text-align: right;\">\n",
              "      <th></th>\n",
              "      <th>review</th>\n",
              "      <th>sentiment</th>\n",
              "    </tr>\n",
              "  </thead>\n",
              "  <tbody>\n",
              "    <tr>\n",
              "      <th>0</th>\n",
              "      <td>One of the other reviewers has mentioned that after watching just 1 Oz episode you'll be hooked. They are right, as this is exactly what happened with me.&lt;br /&gt;&lt;br /&gt;The first thing that struck me about Oz was its brutality and unflinching scenes of violence, which set in right from the word GO. Trust me, this is not a show for the faint hearted or timid. This show pulls no punches with regards to drugs, sex or violence. Its is hardcore, in the classic use of the word.&lt;br /&gt;&lt;br /&gt;It is called OZ as that is the nickname given to the Oswald Maximum Security State Penitentary. It focuses mainly on Emerald City, an experimental section of the prison where all the cells have glass fronts and face inwards, so privacy is not high on the agenda. Em City is home to many..Aryans, Muslims, gangstas, Latinos, Christians, Italians, Irish and more....so scuffles, death stares, dodgy dealings and shady agreements are never far away.&lt;br /&gt;&lt;br /&gt;I would say the main appeal of the show is due to the fact that it goes where other shows wouldn't dare. Forget pretty pictures painted for mainstream audiences, forget charm, forget romance...OZ doesn't mess around. The first episode I ever saw struck me as so nasty it was surreal, I couldn't say I was ready for it, but as I watched more, I developed a taste for Oz, and got accustomed to the high levels of graphic violence. Not just violence, but injustice (crooked guards who'll be sold out for a nickel, inmates who'll kill on order and get away with it, well mannered, middle class inmates being turned into prison bitches due to their lack of street skills or prison experience) Watching Oz, you may become comfortable with what is uncomfortable viewing....thats if you can get in touch with your darker side.</td>\n",
              "      <td>positive</td>\n",
              "    </tr>\n",
              "    <tr>\n",
              "      <th>1</th>\n",
              "      <td>A wonderful little production. &lt;br /&gt;&lt;br /&gt;The filming technique is very unassuming- very old-time-BBC fashion and gives a comforting, and sometimes discomforting, sense of realism to the entire piece. &lt;br /&gt;&lt;br /&gt;The actors are extremely well chosen- Michael Sheen not only \"has got all the polari\" but he has all the voices down pat too! You can truly see the seamless editing guided by the references to Williams' diary entries, not only is it well worth the watching but it is a terrificly written and performed piece. A masterful production about one of the great master's of comedy and his life. &lt;br /&gt;&lt;br /&gt;The realism really comes home with the little things: the fantasy of the guard which, rather than use the traditional 'dream' techniques remains solid then disappears. It plays on our knowledge and our senses, particularly with the scenes concerning Orton and Halliwell and the sets (particularly of their flat with Halliwell's murals decorating every surface) are terribly well done.</td>\n",
              "      <td>positive</td>\n",
              "    </tr>\n",
              "    <tr>\n",
              "      <th>2</th>\n",
              "      <td>I thought this was a wonderful way to spend time on a too hot summer weekend, sitting in the air conditioned theater and watching a light-hearted comedy. The plot is simplistic, but the dialogue is witty and the characters are likable (even the well bread suspected serial killer). While some may be disappointed when they realize this is not Match Point 2: Risk Addiction, I thought it was proof that Woody Allen is still fully in control of the style many of us have grown to love.&lt;br /&gt;&lt;br /&gt;This was the most I'd laughed at one of Woody's comedies in years (dare I say a decade?). While I've never been impressed with Scarlet Johanson, in this she managed to tone down her \"sexy\" image and jumped right into a average, but spirited young woman.&lt;br /&gt;&lt;br /&gt;This may not be the crown jewel of his career, but it was wittier than \"Devil Wears Prada\" and more interesting than \"Superman\" a great comedy to go see with friends.</td>\n",
              "      <td>positive</td>\n",
              "    </tr>\n",
              "    <tr>\n",
              "      <th>3</th>\n",
              "      <td>Basically there's a family where a little boy (Jake) thinks there's a zombie in his closet &amp; his parents are fighting all the time.&lt;br /&gt;&lt;br /&gt;This movie is slower than a soap opera... and suddenly, Jake decides to become Rambo and kill the zombie.&lt;br /&gt;&lt;br /&gt;OK, first of all when you're going to make a film you must Decide if its a thriller or a drama! As a drama the movie is watchable. Parents are divorcing &amp; arguing like in real life. And then we have Jake with his closet which totally ruins all the film! I expected to see a BOOGEYMAN similar movie, and instead i watched a drama with some meaningless thriller spots.&lt;br /&gt;&lt;br /&gt;3 out of 10 just for the well playing parents &amp; descent dialogs. As for the shots with Jake: just ignore them.</td>\n",
              "      <td>negative</td>\n",
              "    </tr>\n",
              "    <tr>\n",
              "      <th>4</th>\n",
              "      <td>Petter Mattei's \"Love in the Time of Money\" is a visually stunning film to watch. Mr. Mattei offers us a vivid portrait about human relations. This is a movie that seems to be telling us what money, power and success do to people in the different situations we encounter. &lt;br /&gt;&lt;br /&gt;This being a variation on the Arthur Schnitzler's play about the same theme, the director transfers the action to the present time New York where all these different characters meet and connect. Each one is connected in one way, or another to the next person, but no one seems to know the previous point of contact. Stylishly, the film has a sophisticated luxurious look. We are taken to see how these people live and the world they live in their own habitat.&lt;br /&gt;&lt;br /&gt;The only thing one gets out of all these souls in the picture is the different stages of loneliness each one inhabits. A big city is not exactly the best place in which human relations find sincere fulfillment, as one discerns is the case with most of the people we encounter.&lt;br /&gt;&lt;br /&gt;The acting is good under Mr. Mattei's direction. Steve Buscemi, Rosario Dawson, Carol Kane, Michael Imperioli, Adrian Grenier, and the rest of the talented cast, make these characters come alive.&lt;br /&gt;&lt;br /&gt;We wish Mr. Mattei good luck and await anxiously for his next work.</td>\n",
              "      <td>positive</td>\n",
              "    </tr>\n",
              "  </tbody>\n",
              "</table>\n",
              "</div>\n",
              "    <div class=\"colab-df-buttons\">\n",
              "\n",
              "  <div class=\"colab-df-container\">\n",
              "    <button class=\"colab-df-convert\" onclick=\"convertToInteractive('df-f5a1b2b2-4044-46ab-8556-2bc3dbd9acc2')\"\n",
              "            title=\"Convert this dataframe to an interactive table.\"\n",
              "            style=\"display:none;\">\n",
              "\n",
              "  <svg xmlns=\"http://www.w3.org/2000/svg\" height=\"24px\" viewBox=\"0 -960 960 960\">\n",
              "    <path d=\"M120-120v-720h720v720H120Zm60-500h600v-160H180v160Zm220 220h160v-160H400v160Zm0 220h160v-160H400v160ZM180-400h160v-160H180v160Zm440 0h160v-160H620v160ZM180-180h160v-160H180v160Zm440 0h160v-160H620v160Z\"/>\n",
              "  </svg>\n",
              "    </button>\n",
              "\n",
              "  <style>\n",
              "    .colab-df-container {\n",
              "      display:flex;\n",
              "      gap: 12px;\n",
              "    }\n",
              "\n",
              "    .colab-df-convert {\n",
              "      background-color: #E8F0FE;\n",
              "      border: none;\n",
              "      border-radius: 50%;\n",
              "      cursor: pointer;\n",
              "      display: none;\n",
              "      fill: #1967D2;\n",
              "      height: 32px;\n",
              "      padding: 0 0 0 0;\n",
              "      width: 32px;\n",
              "    }\n",
              "\n",
              "    .colab-df-convert:hover {\n",
              "      background-color: #E2EBFA;\n",
              "      box-shadow: 0px 1px 2px rgba(60, 64, 67, 0.3), 0px 1px 3px 1px rgba(60, 64, 67, 0.15);\n",
              "      fill: #174EA6;\n",
              "    }\n",
              "\n",
              "    .colab-df-buttons div {\n",
              "      margin-bottom: 4px;\n",
              "    }\n",
              "\n",
              "    [theme=dark] .colab-df-convert {\n",
              "      background-color: #3B4455;\n",
              "      fill: #D2E3FC;\n",
              "    }\n",
              "\n",
              "    [theme=dark] .colab-df-convert:hover {\n",
              "      background-color: #434B5C;\n",
              "      box-shadow: 0px 1px 3px 1px rgba(0, 0, 0, 0.15);\n",
              "      filter: drop-shadow(0px 1px 2px rgba(0, 0, 0, 0.3));\n",
              "      fill: #FFFFFF;\n",
              "    }\n",
              "  </style>\n",
              "\n",
              "    <script>\n",
              "      const buttonEl =\n",
              "        document.querySelector('#df-f5a1b2b2-4044-46ab-8556-2bc3dbd9acc2 button.colab-df-convert');\n",
              "      buttonEl.style.display =\n",
              "        google.colab.kernel.accessAllowed ? 'block' : 'none';\n",
              "\n",
              "      async function convertToInteractive(key) {\n",
              "        const element = document.querySelector('#df-f5a1b2b2-4044-46ab-8556-2bc3dbd9acc2');\n",
              "        const dataTable =\n",
              "          await google.colab.kernel.invokeFunction('convertToInteractive',\n",
              "                                                    [key], {});\n",
              "        if (!dataTable) return;\n",
              "\n",
              "        const docLinkHtml = 'Like what you see? Visit the ' +\n",
              "          '<a target=\"_blank\" href=https://colab.research.google.com/notebooks/data_table.ipynb>data table notebook</a>'\n",
              "          + ' to learn more about interactive tables.';\n",
              "        element.innerHTML = '';\n",
              "        dataTable['output_type'] = 'display_data';\n",
              "        await google.colab.output.renderOutput(dataTable, element);\n",
              "        const docLink = document.createElement('div');\n",
              "        docLink.innerHTML = docLinkHtml;\n",
              "        element.appendChild(docLink);\n",
              "      }\n",
              "    </script>\n",
              "  </div>\n",
              "\n",
              "\n",
              "    <div id=\"df-5548f167-7c74-4fbb-aea7-382a613f21a6\">\n",
              "      <button class=\"colab-df-quickchart\" onclick=\"quickchart('df-5548f167-7c74-4fbb-aea7-382a613f21a6')\"\n",
              "                title=\"Suggest charts\"\n",
              "                style=\"display:none;\">\n",
              "\n",
              "<svg xmlns=\"http://www.w3.org/2000/svg\" height=\"24px\"viewBox=\"0 0 24 24\"\n",
              "     width=\"24px\">\n",
              "    <g>\n",
              "        <path d=\"M19 3H5c-1.1 0-2 .9-2 2v14c0 1.1.9 2 2 2h14c1.1 0 2-.9 2-2V5c0-1.1-.9-2-2-2zM9 17H7v-7h2v7zm4 0h-2V7h2v10zm4 0h-2v-4h2v4z\"/>\n",
              "    </g>\n",
              "</svg>\n",
              "      </button>\n",
              "\n",
              "<style>\n",
              "  .colab-df-quickchart {\n",
              "      --bg-color: #E8F0FE;\n",
              "      --fill-color: #1967D2;\n",
              "      --hover-bg-color: #E2EBFA;\n",
              "      --hover-fill-color: #174EA6;\n",
              "      --disabled-fill-color: #AAA;\n",
              "      --disabled-bg-color: #DDD;\n",
              "  }\n",
              "\n",
              "  [theme=dark] .colab-df-quickchart {\n",
              "      --bg-color: #3B4455;\n",
              "      --fill-color: #D2E3FC;\n",
              "      --hover-bg-color: #434B5C;\n",
              "      --hover-fill-color: #FFFFFF;\n",
              "      --disabled-bg-color: #3B4455;\n",
              "      --disabled-fill-color: #666;\n",
              "  }\n",
              "\n",
              "  .colab-df-quickchart {\n",
              "    background-color: var(--bg-color);\n",
              "    border: none;\n",
              "    border-radius: 50%;\n",
              "    cursor: pointer;\n",
              "    display: none;\n",
              "    fill: var(--fill-color);\n",
              "    height: 32px;\n",
              "    padding: 0;\n",
              "    width: 32px;\n",
              "  }\n",
              "\n",
              "  .colab-df-quickchart:hover {\n",
              "    background-color: var(--hover-bg-color);\n",
              "    box-shadow: 0 1px 2px rgba(60, 64, 67, 0.3), 0 1px 3px 1px rgba(60, 64, 67, 0.15);\n",
              "    fill: var(--button-hover-fill-color);\n",
              "  }\n",
              "\n",
              "  .colab-df-quickchart-complete:disabled,\n",
              "  .colab-df-quickchart-complete:disabled:hover {\n",
              "    background-color: var(--disabled-bg-color);\n",
              "    fill: var(--disabled-fill-color);\n",
              "    box-shadow: none;\n",
              "  }\n",
              "\n",
              "  .colab-df-spinner {\n",
              "    border: 2px solid var(--fill-color);\n",
              "    border-color: transparent;\n",
              "    border-bottom-color: var(--fill-color);\n",
              "    animation:\n",
              "      spin 1s steps(1) infinite;\n",
              "  }\n",
              "\n",
              "  @keyframes spin {\n",
              "    0% {\n",
              "      border-color: transparent;\n",
              "      border-bottom-color: var(--fill-color);\n",
              "      border-left-color: var(--fill-color);\n",
              "    }\n",
              "    20% {\n",
              "      border-color: transparent;\n",
              "      border-left-color: var(--fill-color);\n",
              "      border-top-color: var(--fill-color);\n",
              "    }\n",
              "    30% {\n",
              "      border-color: transparent;\n",
              "      border-left-color: var(--fill-color);\n",
              "      border-top-color: var(--fill-color);\n",
              "      border-right-color: var(--fill-color);\n",
              "    }\n",
              "    40% {\n",
              "      border-color: transparent;\n",
              "      border-right-color: var(--fill-color);\n",
              "      border-top-color: var(--fill-color);\n",
              "    }\n",
              "    60% {\n",
              "      border-color: transparent;\n",
              "      border-right-color: var(--fill-color);\n",
              "    }\n",
              "    80% {\n",
              "      border-color: transparent;\n",
              "      border-right-color: var(--fill-color);\n",
              "      border-bottom-color: var(--fill-color);\n",
              "    }\n",
              "    90% {\n",
              "      border-color: transparent;\n",
              "      border-bottom-color: var(--fill-color);\n",
              "    }\n",
              "  }\n",
              "</style>\n",
              "\n",
              "      <script>\n",
              "        async function quickchart(key) {\n",
              "          const quickchartButtonEl =\n",
              "            document.querySelector('#' + key + ' button');\n",
              "          quickchartButtonEl.disabled = true;  // To prevent multiple clicks.\n",
              "          quickchartButtonEl.classList.add('colab-df-spinner');\n",
              "          try {\n",
              "            const charts = await google.colab.kernel.invokeFunction(\n",
              "                'suggestCharts', [key], {});\n",
              "          } catch (error) {\n",
              "            console.error('Error during call to suggestCharts:', error);\n",
              "          }\n",
              "          quickchartButtonEl.classList.remove('colab-df-spinner');\n",
              "          quickchartButtonEl.classList.add('colab-df-quickchart-complete');\n",
              "        }\n",
              "        (() => {\n",
              "          let quickchartButtonEl =\n",
              "            document.querySelector('#df-5548f167-7c74-4fbb-aea7-382a613f21a6 button');\n",
              "          quickchartButtonEl.style.display =\n",
              "            google.colab.kernel.accessAllowed ? 'block' : 'none';\n",
              "        })();\n",
              "      </script>\n",
              "    </div>\n",
              "\n",
              "    </div>\n",
              "  </div>\n"
            ],
            "application/vnd.google.colaboratory.intrinsic+json": {
              "type": "dataframe",
              "variable_name": "df",
              "summary": "{\n  \"name\": \"df\",\n  \"rows\": 50000,\n  \"fields\": [\n    {\n      \"column\": \"review\",\n      \"properties\": {\n        \"dtype\": \"string\",\n        \"num_unique_values\": 49582,\n        \"samples\": [\n          \"\\\"Soul Plane\\\" is a horrible attempt at comedy that only should appeal people with thick skulls, bloodshot eyes and furry pawns. <br /><br />The plot is not only incoherent but also non-existent, acting is mostly sub sub-par with a gang of highly moronic and dreadful characters thrown in for bad measure, jokes are often spotted miles ahead and almost never even a bit amusing. This movie lacks any structure and is full of racial stereotypes that must have seemed old even in the fifties, the only thing it really has going for it is some pretty ladies, but really, if you want that you can rent something from the \\\"Adult\\\" section. OK?<br /><br />I can hardly see anything here to recommend since you'll probably have a lot a better and productive time chasing rats with a sledgehammer or inventing waterproof teabags or whatever.<br /><br />2/10\",\n          \"Guest from the Future tells a fascinating story of time travel, friendship, battle of good and evil -- all with a small budget, child actors, and few special effects. Something for Spielberg and Lucas to learn from. ;) A sixth-grader Kolya \\\"Nick\\\" Gerasimov finds a time machine in the basement of a decrepit building and travels 100 years into the future. He discovers a near-perfect, utopian society where robots play guitars and write poetry, everyone is kind to each other and people enjoy everything technology has to offer. Alice is the daughter of a prominent scientist who invented a device called Mielophone that allows to read minds of humans and animals. The device can be put to both good and bad use, depending on whose hands it falls into. When two evil space pirates from Saturn who want to rule the universe attempt to steal Mielophone, it falls into the hands of 20th century school boy Nick. With the pirates hot on his tracks, he travels back to his time, followed by the pirates, and Alice. Chaos, confusion and funny situations follow as the luckless pirates try to blend in with the earthlings. Alice enrolls in the same school Nick goes to and demonstrates superhuman abilities in PE class. The catch is, Alice doesn't know what Nick looks like, while the pirates do. Also, the pirates are able to change their appearance and turn literally into anyone. (Hmm, I wonder if this is where James Cameron got the idea for Terminator...) Who gets to Nick -- and Mielophone -- first? Excellent plot, non-stop adventures, and great soundtrack. I wish Hollywood made kid movies like this one...\",\n          \"\\\"National Treasure\\\" (2004) is a thoroughly misguided hodge-podge of plot entanglements that borrow from nearly every cloak and dagger government conspiracy clich\\u00e9 that has ever been written. The film stars Nicholas Cage as Benjamin Franklin Gates (how precious is that, I ask you?); a seemingly normal fellow who, for no other reason than being of a lineage of like-minded misguided fortune hunters, decides to steal a 'national treasure' that has been hidden by the United States founding fathers. After a bit of subtext and background that plays laughably (unintentionally) like Indiana Jones meets The Patriot, the film degenerates into one misguided whimsy after another \\u0096 attempting to create a 'Stanley Goodspeed' regurgitation of Nicholas Cage and launch the whole convoluted mess forward with a series of high octane, but disconnected misadventures.<br /><br />The relevancy and logic to having George Washington and his motley crew of patriots burying a king's ransom someplace on native soil, and then, going through the meticulous plan of leaving clues scattered throughout U.S. currency art work, is something that director Jon Turteltaub never quite gets around to explaining. Couldn't Washington found better usage for such wealth during the start up of the country? Hence, we are left with a mystery built on top of an enigma that is already on shaky ground by the time Ben appoints himself the new custodian of this untold wealth. Ben's intentions are noble \\u0096 if confusing. He's set on protecting the treasure. For who and when?\\u0085your guess is as good as mine.<br /><br />But there are a few problems with Ben's crusade. First up, his friend, Ian Holmes (Sean Bean) decides that he can't wait for Ben to make up his mind about stealing the Declaration of Independence from the National Archives (oh, yeah \\u0096 brilliant idea!). Presumably, the back of that famous document holds the secret answer to the ultimate fortune. So Ian tries to kill Ben. The assassination attempt is, of course, unsuccessful, if overly melodramatic. It also affords Ben the opportunity to pick up, and pick on, the very sultry curator of the archives, Abigail Chase (Diane Kruger). She thinks Ben is clearly a nut \\u0096 at least at the beginning. But true to action/romance form, Abby's resolve melts quicker than you can say, \\\"is that the Hope Diamond?\\\" The film moves into full X-File-ish mode, as the FBI, mistakenly believing that Ben is behind the theft, retaliate in various benign ways that lead to a multi-layering of action sequences reminiscent of Mission Impossible meets The Fugitive. Honestly, don't those guys ever get 'intelligence' information that is correct? In the final analysis, \\\"National Treasure\\\" isn't great film making, so much as it's a patchwork rehash of tired old bits from other movies, woven together from scraps, the likes of which would make IL' Betsy Ross blush.<br /><br />The Buena Vista DVD delivers a far more generous treatment than this film is deserving of. The anamorphic widescreen picture exhibits a very smooth and finely detailed image with very rich colors, natural flesh tones, solid blacks and clean whites. The stylized image is also free of blemishes and digital enhancements. The audio is 5.1 and delivers a nice sonic boom to your side and rear speakers with intensity and realism. Extras include a host of promotional junket material that is rather deep and over the top in its explanation of how and why this film was made. If only, as an audience, we had had more clarification as to why Ben and co. were chasing after an illusive treasure, this might have been one good flick. Extras conclude with the theatrical trailer, audio commentary and deleted scenes. Not for the faint-hearted \\u0096 just the thick-headed.\"\n        ],\n        \"semantic_type\": \"\",\n        \"description\": \"\"\n      }\n    },\n    {\n      \"column\": \"sentiment\",\n      \"properties\": {\n        \"dtype\": \"category\",\n        \"num_unique_values\": 2,\n        \"samples\": [\n          \"negative\",\n          \"positive\"\n        ],\n        \"semantic_type\": \"\",\n        \"description\": \"\"\n      }\n    }\n  ]\n}"
            }
          },
          "metadata": {},
          "execution_count": 3
        }
      ]
    },
    {
      "cell_type": "markdown",
      "source": [
        "The reviews are quite long, proper preprocessing is needed"
      ],
      "metadata": {
        "id": "bTRYhMQ0Pjv4"
      }
    },
    {
      "cell_type": "markdown",
      "source": [
        "## Exploratory Data Analysis"
      ],
      "metadata": {
        "id": "MGVOfdrb5iYs"
      }
    },
    {
      "cell_type": "code",
      "source": [
        "df.shape"
      ],
      "metadata": {
        "id": "8EaCZOMEO_AZ",
        "colab": {
          "base_uri": "https://localhost:8080/"
        },
        "outputId": "0e59e98b-9ee8-4203-aa0f-5044149f4cb1"
      },
      "execution_count": null,
      "outputs": [
        {
          "output_type": "execute_result",
          "data": {
            "text/plain": [
              "(50000, 2)"
            ]
          },
          "metadata": {},
          "execution_count": 4
        }
      ]
    },
    {
      "cell_type": "markdown",
      "source": [
        "dataset is good-sized - enough to train reliable models"
      ],
      "metadata": {
        "id": "xTkEtckr6nDk"
      }
    },
    {
      "cell_type": "code",
      "source": [
        "df.isnull().sum()"
      ],
      "metadata": {
        "id": "R4RO2kNPPBd9",
        "colab": {
          "base_uri": "https://localhost:8080/",
          "height": 147
        },
        "outputId": "b5f1ace4-6df8-4b11-f584-e471ae917143"
      },
      "execution_count": null,
      "outputs": [
        {
          "output_type": "execute_result",
          "data": {
            "text/plain": [
              "review       0\n",
              "sentiment    0\n",
              "dtype: int64"
            ],
            "text/html": [
              "<div>\n",
              "<style scoped>\n",
              "    .dataframe tbody tr th:only-of-type {\n",
              "        vertical-align: middle;\n",
              "    }\n",
              "\n",
              "    .dataframe tbody tr th {\n",
              "        vertical-align: top;\n",
              "    }\n",
              "\n",
              "    .dataframe thead th {\n",
              "        text-align: right;\n",
              "    }\n",
              "</style>\n",
              "<table border=\"1\" class=\"dataframe\">\n",
              "  <thead>\n",
              "    <tr style=\"text-align: right;\">\n",
              "      <th></th>\n",
              "      <th>0</th>\n",
              "    </tr>\n",
              "  </thead>\n",
              "  <tbody>\n",
              "    <tr>\n",
              "      <th>review</th>\n",
              "      <td>0</td>\n",
              "    </tr>\n",
              "    <tr>\n",
              "      <th>sentiment</th>\n",
              "      <td>0</td>\n",
              "    </tr>\n",
              "  </tbody>\n",
              "</table>\n",
              "</div><br><label><b>dtype:</b> int64</label>"
            ]
          },
          "metadata": {},
          "execution_count": 5
        }
      ]
    },
    {
      "cell_type": "code",
      "source": [
        "print(df.duplicated().sum())"
      ],
      "metadata": {
        "id": "Cyvrkc_uQf8f",
        "colab": {
          "base_uri": "https://localhost:8080/"
        },
        "outputId": "932c8f2b-cea9-4ed7-f6a0-493801763fab"
      },
      "execution_count": null,
      "outputs": [
        {
          "output_type": "stream",
          "name": "stdout",
          "text": [
            "418\n"
          ]
        }
      ]
    },
    {
      "cell_type": "markdown",
      "source": [
        "duplicates may bias the model, need to be dropped"
      ],
      "metadata": {
        "id": "v4E4c3C47DqI"
      }
    },
    {
      "cell_type": "code",
      "source": [
        "df.drop_duplicates(inplace=True)"
      ],
      "metadata": {
        "id": "vR6GpJo6RIib"
      },
      "execution_count": null,
      "outputs": []
    },
    {
      "cell_type": "code",
      "source": [
        "df.shape"
      ],
      "metadata": {
        "id": "OzCEvZEyRSYL",
        "colab": {
          "base_uri": "https://localhost:8080/"
        },
        "outputId": "c0122498-fab8-4467-9794-8f43a4ef1ef8"
      },
      "execution_count": null,
      "outputs": [
        {
          "output_type": "execute_result",
          "data": {
            "text/plain": [
              "(49582, 2)"
            ]
          },
          "metadata": {},
          "execution_count": 8
        }
      ]
    },
    {
      "cell_type": "code",
      "source": [
        "sns.countplot(x='sentiment', hue='sentiment', data =df, palette=['green', 'red'])\n",
        "plt.xlabel('Classes')\n",
        "plt.ylabel('Frequency')\n",
        "plt.title('Positive vs. Negative reviews')\n",
        "plt.show()"
      ],
      "metadata": {
        "id": "iFvcgPcuVWFg",
        "colab": {
          "base_uri": "https://localhost:8080/",
          "height": 472
        },
        "outputId": "00134f8d-6446-40a3-cbf1-ba1533cdcbba"
      },
      "execution_count": null,
      "outputs": [
        {
          "output_type": "display_data",
          "data": {
            "text/plain": [
              "<Figure size 640x480 with 1 Axes>"
            ],
            "image/png": "[encoded data removed]"
          },
          "metadata": {}
        }
      ]
    },
    {
      "cell_type": "markdown",
      "source": [
        "target classes are balanced which is important for training a reliable classifier"
      ],
      "metadata": {
        "id": "PXBlH4doTBpF"
      }
    },
    {
      "cell_type": "code",
      "source": [
        "df['review_length_words'] = df['review'].apply(lambda x: len(x.split()))"
      ],
      "metadata": {
        "id": "hdJ79PfHSbvP"
      },
      "execution_count": null,
      "outputs": []
    },
    {
      "cell_type": "code",
      "source": [
        "plt.figure(figsize=(8, 6))\n",
        "sns.histplot(df['review_length_words'], bins=20, kde=True, color='orange')\n",
        "plt.title('Review Length by Words')\n",
        "plt.xlabel('Number of words')\n",
        "plt.ylabel('Frequency')\n",
        "plt.show()"
      ],
      "metadata": {
        "id": "qcK9RdrDT9RY",
        "colab": {
          "base_uri": "https://localhost:8080/",
          "height": 564
        },
        "outputId": "7bcc23e0-f507-4bdc-fcb0-55e374303c64"
      },
      "execution_count": null,
      "outputs": [
        {
          "output_type": "display_data",
          "data": {
            "text/plain": [
              "<Figure size 800x600 with 1 Axes>"
            ],
            "image/png": "[encoded data removed]"
          },
          "metadata": {}
        }
      ]
    },
    {
      "cell_type": "code",
      "source": [
        "sns.histplot(df['review_length_words'], bins=10)\n",
        "plt.title('Review Length by Words (1–10)')\n",
        "plt.xlabel('Number of Words')\n",
        "plt.ylabel('Frequency')\n",
        "plt.xlim(1, 10)\n",
        "plt.show()"
      ],
      "metadata": {
        "id": "EpZ3iV6PWjWq",
        "colab": {
          "base_uri": "https://localhost:8080/",
          "height": 472
        },
        "outputId": "f2bf4e78-84d6-405a-a964-d31874e389be"
      },
      "execution_count": null,
      "outputs": [
        {
          "output_type": "display_data",
          "data": {
            "text/plain": [
              "<Figure size 640x480 with 1 Axes>"
            ],
            "image/png": "[encoded data removed]"
          },
          "metadata": {}
        }
      ]
    },
    {
      "cell_type": "markdown",
      "source": [
        "there are no very short reviews (up to 3 words), which could be somewhat uninformative"
      ],
      "metadata": {
        "id": "oaFcPEXpWVnn"
      }
    },
    {
      "cell_type": "code",
      "source": [
        "df.loc[(df['review_length_words'] >= 4) & (df['review_length_words'] <= 10), ['review', 'sentiment']]"
      ],
      "metadata": {
        "colab": {
          "base_uri": "https://localhost:8080/",
          "height": 300
        },
        "id": "Lypj3NCTO9yr",
        "outputId": "bf7c8dae-00b3-4fb8-f445-6b609b8d2c0b"
      },
      "execution_count": null,
      "outputs": [
        {
          "output_type": "execute_result",
          "data": {
            "text/plain": [
              "                                                                    review  \\\n",
              "11926                I wouldn't rent this one even on dollar rental night.   \n",
              "13109        More suspenseful, more subtle, much, much more disturbing....   \n",
              "18400  Brilliant and moving performances by Tom Courtenay and Peter Finch.   \n",
              "19874                 This movie is terrible but it has some good effects.   \n",
              "27521                                     Read the book, forget the movie!   \n",
              "28920                  Primary plot!Primary direction!Poor interpretation.   \n",
              "31072                            What a script, what a story, what a mess!   \n",
              "40817                    I hope this group of film-makers never re-unites.   \n",
              "\n",
              "      sentiment  \n",
              "11926  negative  \n",
              "13109  negative  \n",
              "18400  positive  \n",
              "19874  negative  \n",
              "27521  negative  \n",
              "28920  negative  \n",
              "31072  negative  \n",
              "40817  negative  "
            ],
            "text/html": [
              "\n",
              "  <div id=\"df-fdb597d4-2955-4885-9643-467069a26103\" class=\"colab-df-container\">\n",
              "    <div>\n",
              "<style scoped>\n",
              "    .dataframe tbody tr th:only-of-type {\n",
              "        vertical-align: middle;\n",
              "    }\n",
              "\n",
              "    .dataframe tbody tr th {\n",
              "        vertical-align: top;\n",
              "    }\n",
              "\n",
              "    .dataframe thead th {\n",
              "        text-align: right;\n",
              "    }\n",
              "</style>\n",
              "<table border=\"1\" class=\"dataframe\">\n",
              "  <thead>\n",
              "    <tr style=\"text-align: right;\">\n",
              "      <th></th>\n",
              "      <th>review</th>\n",
              "      <th>sentiment</th>\n",
              "    </tr>\n",
              "  </thead>\n",
              "  <tbody>\n",
              "    <tr>\n",
              "      <th>11926</th>\n",
              "      <td>I wouldn't rent this one even on dollar rental night.</td>\n",
              "      <td>negative</td>\n",
              "    </tr>\n",
              "    <tr>\n",
              "      <th>13109</th>\n",
              "      <td>More suspenseful, more subtle, much, much more disturbing....</td>\n",
              "      <td>negative</td>\n",
              "    </tr>\n",
              "    <tr>\n",
              "      <th>18400</th>\n",
              "      <td>Brilliant and moving performances by Tom Courtenay and Peter Finch.</td>\n",
              "      <td>positive</td>\n",
              "    </tr>\n",
              "    <tr>\n",
              "      <th>19874</th>\n",
              "      <td>This movie is terrible but it has some good effects.</td>\n",
              "      <td>negative</td>\n",
              "    </tr>\n",
              "    <tr>\n",
              "      <th>27521</th>\n",
              "      <td>Read the book, forget the movie!</td>\n",
              "      <td>negative</td>\n",
              "    </tr>\n",
              "    <tr>\n",
              "      <th>28920</th>\n",
              "      <td>Primary plot!Primary direction!Poor interpretation.</td>\n",
              "      <td>negative</td>\n",
              "    </tr>\n",
              "    <tr>\n",
              "      <th>31072</th>\n",
              "      <td>What a script, what a story, what a mess!</td>\n",
              "      <td>negative</td>\n",
              "    </tr>\n",
              "    <tr>\n",
              "      <th>40817</th>\n",
              "      <td>I hope this group of film-makers never re-unites.</td>\n",
              "      <td>negative</td>\n",
              "    </tr>\n",
              "  </tbody>\n",
              "</table>\n",
              "</div>\n",
              "    <div class=\"colab-df-buttons\">\n",
              "\n",
              "  <div class=\"colab-df-container\">\n",
              "    <button class=\"colab-df-convert\" onclick=\"convertToInteractive('df-fdb597d4-2955-4885-9643-467069a26103')\"\n",
              "            title=\"Convert this dataframe to an interactive table.\"\n",
              "            style=\"display:none;\">\n",
              "\n",
              "  <svg xmlns=\"http://www.w3.org/2000/svg\" height=\"24px\" viewBox=\"0 -960 960 960\">\n",
              "    <path d=\"M120-120v-720h720v720H120Zm60-500h600v-160H180v160Zm220 220h160v-160H400v160Zm0 220h160v-160H400v160ZM180-400h160v-160H180v160Zm440 0h160v-160H620v160ZM180-180h160v-160H180v160Zm440 0h160v-160H620v160Z\"/>\n",
              "  </svg>\n",
              "    </button>\n",
              "\n",
              "  <style>\n",
              "    .colab-df-container {\n",
              "      display:flex;\n",
              "      gap: 12px;\n",
              "    }\n",
              "\n",
              "    .colab-df-convert {\n",
              "      background-color: #E8F0FE;\n",
              "      border: none;\n",
              "      border-radius: 50%;\n",
              "      cursor: pointer;\n",
              "      display: none;\n",
              "      fill: #1967D2;\n",
              "      height: 32px;\n",
              "      padding: 0 0 0 0;\n",
              "      width: 32px;\n",
              "    }\n",
              "\n",
              "    .colab-df-convert:hover {\n",
              "      background-color: #E2EBFA;\n",
              "      box-shadow: 0px 1px 2px rgba(60, 64, 67, 0.3), 0px 1px 3px 1px rgba(60, 64, 67, 0.15);\n",
              "      fill: #174EA6;\n",
              "    }\n",
              "\n",
              "    .colab-df-buttons div {\n",
              "      margin-bottom: 4px;\n",
              "    }\n",
              "\n",
              "    [theme=dark] .colab-df-convert {\n",
              "      background-color: #3B4455;\n",
              "      fill: #D2E3FC;\n",
              "    }\n",
              "\n",
              "    [theme=dark] .colab-df-convert:hover {\n",
              "      background-color: #434B5C;\n",
              "      box-shadow: 0px 1px 3px 1px rgba(0, 0, 0, 0.15);\n",
              "      filter: drop-shadow(0px 1px 2px rgba(0, 0, 0, 0.3));\n",
              "      fill: #FFFFFF;\n",
              "    }\n",
              "  </style>\n",
              "\n",
              "    <script>\n",
              "      const buttonEl =\n",
              "        document.querySelector('#df-fdb597d4-2955-4885-9643-467069a26103 button.colab-df-convert');\n",
              "      buttonEl.style.display =\n",
              "        google.colab.kernel.accessAllowed ? 'block' : 'none';\n",
              "\n",
              "      async function convertToInteractive(key) {\n",
              "        const element = document.querySelector('#df-fdb597d4-2955-4885-9643-467069a26103');\n",
              "        const dataTable =\n",
              "          await google.colab.kernel.invokeFunction('convertToInteractive',\n",
              "                                                    [key], {});\n",
              "        if (!dataTable) return;\n",
              "\n",
              "        const docLinkHtml = 'Like what you see? Visit the ' +\n",
              "          '<a target=\"_blank\" href=https://colab.research.google.com/notebooks/data_table.ipynb>data table notebook</a>'\n",
              "          + ' to learn more about interactive tables.';\n",
              "        element.innerHTML = '';\n",
              "        dataTable['output_type'] = 'display_data';\n",
              "        await google.colab.output.renderOutput(dataTable, element);\n",
              "        const docLink = document.createElement('div');\n",
              "        docLink.innerHTML = docLinkHtml;\n",
              "        element.appendChild(docLink);\n",
              "      }\n",
              "    </script>\n",
              "  </div>\n",
              "\n",
              "\n",
              "    <div id=\"df-44af4621-0b8b-4737-ad11-79ef40a52b10\">\n",
              "      <button class=\"colab-df-quickchart\" onclick=\"quickchart('df-44af4621-0b8b-4737-ad11-79ef40a52b10')\"\n",
              "                title=\"Suggest charts\"\n",
              "                style=\"display:none;\">\n",
              "\n",
              "<svg xmlns=\"http://www.w3.org/2000/svg\" height=\"24px\"viewBox=\"0 0 24 24\"\n",
              "     width=\"24px\">\n",
              "    <g>\n",
              "        <path d=\"M19 3H5c-1.1 0-2 .9-2 2v14c0 1.1.9 2 2 2h14c1.1 0 2-.9 2-2V5c0-1.1-.9-2-2-2zM9 17H7v-7h2v7zm4 0h-2V7h2v10zm4 0h-2v-4h2v4z\"/>\n",
              "    </g>\n",
              "</svg>\n",
              "      </button>\n",
              "\n",
              "<style>\n",
              "  .colab-df-quickchart {\n",
              "      --bg-color: #E8F0FE;\n",
              "      --fill-color: #1967D2;\n",
              "      --hover-bg-color: #E2EBFA;\n",
              "      --hover-fill-color: #174EA6;\n",
              "      --disabled-fill-color: #AAA;\n",
              "      --disabled-bg-color: #DDD;\n",
              "  }\n",
              "\n",
              "  [theme=dark] .colab-df-quickchart {\n",
              "      --bg-color: #3B4455;\n",
              "      --fill-color: #D2E3FC;\n",
              "      --hover-bg-color: #434B5C;\n",
              "      --hover-fill-color: #FFFFFF;\n",
              "      --disabled-bg-color: #3B4455;\n",
              "      --disabled-fill-color: #666;\n",
              "  }\n",
              "\n",
              "  .colab-df-quickchart {\n",
              "    background-color: var(--bg-color);\n",
              "    border: none;\n",
              "    border-radius: 50%;\n",
              "    cursor: pointer;\n",
              "    display: none;\n",
              "    fill: var(--fill-color);\n",
              "    height: 32px;\n",
              "    padding: 0;\n",
              "    width: 32px;\n",
              "  }\n",
              "\n",
              "  .colab-df-quickchart:hover {\n",
              "    background-color: var(--hover-bg-color);\n",
              "    box-shadow: 0 1px 2px rgba(60, 64, 67, 0.3), 0 1px 3px 1px rgba(60, 64, 67, 0.15);\n",
              "    fill: var(--button-hover-fill-color);\n",
              "  }\n",
              "\n",
              "  .colab-df-quickchart-complete:disabled,\n",
              "  .colab-df-quickchart-complete:disabled:hover {\n",
              "    background-color: var(--disabled-bg-color);\n",
              "    fill: var(--disabled-fill-color);\n",
              "    box-shadow: none;\n",
              "  }\n",
              "\n",
              "  .colab-df-spinner {\n",
              "    border: 2px solid var(--fill-color);\n",
              "    border-color: transparent;\n",
              "    border-bottom-color: var(--fill-color);\n",
              "    animation:\n",
              "      spin 1s steps(1) infinite;\n",
              "  }\n",
              "\n",
              "  @keyframes spin {\n",
              "    0% {\n",
              "      border-color: transparent;\n",
              "      border-bottom-color: var(--fill-color);\n",
              "      border-left-color: var(--fill-color);\n",
              "    }\n",
              "    20% {\n",
              "      border-color: transparent;\n",
              "      border-left-color: var(--fill-color);\n",
              "      border-top-color: var(--fill-color);\n",
              "    }\n",
              "    30% {\n",
              "      border-color: transparent;\n",
              "      border-left-color: var(--fill-color);\n",
              "      border-top-color: var(--fill-color);\n",
              "      border-right-color: var(--fill-color);\n",
              "    }\n",
              "    40% {\n",
              "      border-color: transparent;\n",
              "      border-right-color: var(--fill-color);\n",
              "      border-top-color: var(--fill-color);\n",
              "    }\n",
              "    60% {\n",
              "      border-color: transparent;\n",
              "      border-right-color: var(--fill-color);\n",
              "    }\n",
              "    80% {\n",
              "      border-color: transparent;\n",
              "      border-right-color: var(--fill-color);\n",
              "      border-bottom-color: var(--fill-color);\n",
              "    }\n",
              "    90% {\n",
              "      border-color: transparent;\n",
              "      border-bottom-color: var(--fill-color);\n",
              "    }\n",
              "  }\n",
              "</style>\n",
              "\n",
              "      <script>\n",
              "        async function quickchart(key) {\n",
              "          const quickchartButtonEl =\n",
              "            document.querySelector('#' + key + ' button');\n",
              "          quickchartButtonEl.disabled = true;  // To prevent multiple clicks.\n",
              "          quickchartButtonEl.classList.add('colab-df-spinner');\n",
              "          try {\n",
              "            const charts = await google.colab.kernel.invokeFunction(\n",
              "                'suggestCharts', [key], {});\n",
              "          } catch (error) {\n",
              "            console.error('Error during call to suggestCharts:', error);\n",
              "          }\n",
              "          quickchartButtonEl.classList.remove('colab-df-spinner');\n",
              "          quickchartButtonEl.classList.add('colab-df-quickchart-complete');\n",
              "        }\n",
              "        (() => {\n",
              "          let quickchartButtonEl =\n",
              "            document.querySelector('#df-44af4621-0b8b-4737-ad11-79ef40a52b10 button');\n",
              "          quickchartButtonEl.style.display =\n",
              "            google.colab.kernel.accessAllowed ? 'block' : 'none';\n",
              "        })();\n",
              "      </script>\n",
              "    </div>\n",
              "\n",
              "    </div>\n",
              "  </div>\n"
            ],
            "application/vnd.google.colaboratory.intrinsic+json": {
              "type": "dataframe",
              "summary": "{\n  \"name\": \"df\",\n  \"rows\": 8,\n  \"fields\": [\n    {\n      \"column\": \"review\",\n      \"properties\": {\n        \"dtype\": \"string\",\n        \"num_unique_values\": 8,\n        \"samples\": [\n          \"More suspenseful, more subtle, much, much more disturbing....\",\n          \"Primary plot!Primary direction!Poor interpretation.\",\n          \"I wouldn't rent this one even on dollar rental night.\"\n        ],\n        \"semantic_type\": \"\",\n        \"description\": \"\"\n      }\n    },\n    {\n      \"column\": \"sentiment\",\n      \"properties\": {\n        \"dtype\": \"category\",\n        \"num_unique_values\": 2,\n        \"samples\": [\n          \"positive\",\n          \"negative\"\n        ],\n        \"semantic_type\": \"\",\n        \"description\": \"\"\n      }\n    }\n  ]\n}"
            }
          },
          "metadata": {},
          "execution_count": 53
        }
      ]
    },
    {
      "cell_type": "markdown",
      "source": [
        "check if there are reviews that include expressions such as \"not good, not impressing etc.\" where 2 and more words should be interpreted together to get the correct tone, because TF-IDF which will be used for vectorizing works with unigrams by default so cannot capture the negation, in that case TF-IDF should work with n-grams"
      ],
      "metadata": {
        "id": "5SKrS0JzR1aA"
      }
    },
    {
      "cell_type": "code",
      "source": [
        "df[df['sentiment'] == 'positive']['review'].sample(3)"
      ],
      "metadata": {
        "id": "bf4rKVKSXR9B",
        "colab": {
          "base_uri": "https://localhost:8080/",
          "height": 386
        },
        "outputId": "ffa96fe2-7221-4fd8-f6a9-e7eaf5e58d32"
      },
      "execution_count": null,
      "outputs": [
        {
          "output_type": "execute_result",
          "data": {
            "text/plain": [
              "20636                                                                                                                                                                                                                                                                                                                                                                                                                                                                                                                                                                                                                                                                                                                                                                                                                                                                                                                                                                                                                                                                                                                                                                  Brian De Palma's undeniable virtuosity can't really camouflage the fact that his plot here is a thinly disguised \"Psycho\" carbon copy, but he does provide a genuinely terrifying climax. His \"Blow Out\", made the next year, was an improvement.\n",
              "201      Any film about WWII made during WWII by a British production company has no latter-day peer in my opinion, respectfully. The confluence of so many things near and dear to my heart are in At Dawn We Dive: as a descendant of Admiral Horatio Nelson and student of all aspects of World War Two and particularly naval warfare, I favor depictions of subs and action in the North Atlantic and especially those which include the German side of things. For those unacquainted with target priorities, an attack on an enemy warship is the greatest event that a submarine can hope to encounter and such a rare opportunity would develop surprisingly similarly to what we see here. The pacing is deliberate and typical of the works coming out of the Ealing, Rank and British-Gaumont studios back in the day: frankly I prefer its quieter, more cerebral approach for its humanity and realism that engages far better than any over-produced Hollywood movie ever could. This reminds me of Powell and Pressburger's The 49th Parallel thanks to the powerfully persuasive Eric Portman, a favorite of mine. John Mills receives second billing and a smaller font in the titles, so this is clearly meant to be Mr. Portman's film but the whole cast shines. As for the title sequence, am I the only one who is utterly charmed by Gainsborough Production's lovely pre-CGI Gainsborough Girl?\n",
              "7484                                                                                                                                                        Far more sprightly, and less stage and set bound than Gene Saks' previous efforts Barefoot in the Park(67) and The Odd Couple (68), Cactus Flower is not a work of art, but compared to most of the tired farces from the 60's like The Apartment, How to Murder Your Wife, Goodbye Charlie, A Guide for the Marrried Man, Divorce, American Style, Any Wednesday, Kiss Me Stupid, Boys Night Out, it's a masterpiece. Director Saks and writer I.A.L. Diamond have effectively \"opened up\" Abe Burrows' Broadway hit, and the film benefits greatly from New York City location shooting and excellent performances from Ingrid Bergman and Goldie Hawn. Bergman is charming, looks great, and demonstrates a flair for comedy. Hawn in her Oscar winning role has never been better or more appealing. Matthau is OK though it's hard to believe that Hawn's character would be so enamored of him. And in retrospect, Hawn's attempted suicide at the start of the film is out of character and unbelievable. Nonetheless, the film has a plausible farcical set up, and once it gets going it generates laugh. Rick Lenz, Jack Weston, Eve Bruce, and Vito Scotti provide good support. The film is likable and fun, and Hawn and Bergman make you care.\n",
              "Name: review, dtype: object"
            ],
            "text/html": [
              "<div>\n",
              "<style scoped>\n",
              "    .dataframe tbody tr th:only-of-type {\n",
              "        vertical-align: middle;\n",
              "    }\n",
              "\n",
              "    .dataframe tbody tr th {\n",
              "        vertical-align: top;\n",
              "    }\n",
              "\n",
              "    .dataframe thead th {\n",
              "        text-align: right;\n",
              "    }\n",
              "</style>\n",
              "<table border=\"1\" class=\"dataframe\">\n",
              "  <thead>\n",
              "    <tr style=\"text-align: right;\">\n",
              "      <th></th>\n",
              "      <th>review</th>\n",
              "    </tr>\n",
              "  </thead>\n",
              "  <tbody>\n",
              "    <tr>\n",
              "      <th>20636</th>\n",
              "      <td>Brian De Palma's undeniable virtuosity can't really camouflage the fact that his plot here is a thinly disguised \"Psycho\" carbon copy, but he does provide a genuinely terrifying climax. His \"Blow Out\", made the next year, was an improvement.</td>\n",
              "    </tr>\n",
              "    <tr>\n",
              "      <th>201</th>\n",
              "      <td>Any film about WWII made during WWII by a British production company has no latter-day peer in my opinion, respectfully. The confluence of so many things near and dear to my heart are in At Dawn We Dive: as a descendant of Admiral Horatio Nelson and student of all aspects of World War Two and particularly naval warfare, I favor depictions of subs and action in the North Atlantic and especially those which include the German side of things. For those unacquainted with target priorities, an attack on an enemy warship is the greatest event that a submarine can hope to encounter and such a rare opportunity would develop surprisingly similarly to what we see here. The pacing is deliberate and typical of the works coming out of the Ealing, Rank and British-Gaumont studios back in the day: frankly I prefer its quieter, more cerebral approach for its humanity and realism that engages far better than any over-produced Hollywood movie ever could. This reminds me of Powell and Pressburger's The 49th Parallel thanks to the powerfully persuasive Eric Portman, a favorite of mine. John Mills receives second billing and a smaller font in the titles, so this is clearly meant to be Mr. Portman's film but the whole cast shines. As for the title sequence, am I the only one who is utterly charmed by Gainsborough Production's lovely pre-CGI Gainsborough Girl?</td>\n",
              "    </tr>\n",
              "    <tr>\n",
              "      <th>7484</th>\n",
              "      <td>Far more sprightly, and less stage and set bound than Gene Saks' previous efforts Barefoot in the Park(67) and The Odd Couple (68), Cactus Flower is not a work of art, but compared to most of the tired farces from the 60's like The Apartment, How to Murder Your Wife, Goodbye Charlie, A Guide for the Marrried Man, Divorce, American Style, Any Wednesday, Kiss Me Stupid, Boys Night Out, it's a masterpiece. Director Saks and writer I.A.L. Diamond have effectively \"opened up\" Abe Burrows' Broadway hit, and the film benefits greatly from New York City location shooting and excellent performances from Ingrid Bergman and Goldie Hawn. Bergman is charming, looks great, and demonstrates a flair for comedy. Hawn in her Oscar winning role has never been better or more appealing. Matthau is OK though it's hard to believe that Hawn's character would be so enamored of him. And in retrospect, Hawn's attempted suicide at the start of the film is out of character and unbelievable. Nonetheless, the film has a plausible farcical set up, and once it gets going it generates laugh. Rick Lenz, Jack Weston, Eve Bruce, and Vito Scotti provide good support. The film is likable and fun, and Hawn and Bergman make you care.</td>\n",
              "    </tr>\n",
              "  </tbody>\n",
              "</table>\n",
              "</div><br><label><b>dtype:</b> object</label>"
            ]
          },
          "metadata": {},
          "execution_count": 13
        }
      ]
    },
    {
      "cell_type": "markdown",
      "source": [
        "lots of **br** tags, lots of positive keywords"
      ],
      "metadata": {
        "id": "t3frCGm3YGox"
      }
    },
    {
      "cell_type": "code",
      "source": [
        "df[df['sentiment']=='negative']['review'].sample(3)"
      ],
      "metadata": {
        "id": "boGw2ea5Xp-x",
        "colab": {
          "base_uri": "https://localhost:8080/",
          "height": 299
        },
        "outputId": "d79454c4-6f9a-46b5-fd93-eccf5c977f1f"
      },
      "execution_count": null,
      "outputs": [
        {
          "output_type": "execute_result",
          "data": {
            "text/plain": [
              "45568                                                                                                                                                                                                                                                                                                                                                                                       I figured the whole joke of the movie would be to see some rich white guy acting like Chris Rock, and then see Chris Rock react to people's reactions. Instead you just see Chris Rock being himself and people not understanding him. There are maybe 2 scenes in the entire movie where they use their gimmick. This should have been a lot better.\n",
              "17324    Enormous suspension of disbelief is required where Will's \"genius\" is concerned. Not just in math--he is also very well read in economic history, able to out-shrink several shrinks, etc etc. No, no, no. I don't buy it. While they're at it, they might as well have him wearing a big \"S\" on his chest, flying faster than a jet plane and stopping bullets.<br /><br />Among other problems...real genius (shelving for the moment the problem of what it really is, and whether it deserves such mindless homage) doesn't simply appear /ex nihilo/. It isn't ever so multi-faceted. And it is very rarely appreciated by contemporaries.<br /><br />Better to have made Will a basketball prodigy. Except that Damon's too short.\n",
              "10699                                                    How has this piece of crap stayed on TV this long? It's terrible. It makes me want to shoot someone. It's so fake that it is actually worse than a 1940s sci-fi movie. I'd rather have a stroke than watch this nonsense. I remember watching it when it first came out. I thought, hey this could be interesting, then I found out how absolutely, insanely, ridiculously stupid it really was. It was so bad that I actually took out my pocket knife and stuck my hand to the table.<br /><br />Please people, stop watching this and all other reality shows, they're the trash that is jamming the networks and canceling quality programming that requires some thought to create.\n",
              "Name: review, dtype: object"
            ],
            "text/html": [
              "<div>\n",
              "<style scoped>\n",
              "    .dataframe tbody tr th:only-of-type {\n",
              "        vertical-align: middle;\n",
              "    }\n",
              "\n",
              "    .dataframe tbody tr th {\n",
              "        vertical-align: top;\n",
              "    }\n",
              "\n",
              "    .dataframe thead th {\n",
              "        text-align: right;\n",
              "    }\n",
              "</style>\n",
              "<table border=\"1\" class=\"dataframe\">\n",
              "  <thead>\n",
              "    <tr style=\"text-align: right;\">\n",
              "      <th></th>\n",
              "      <th>review</th>\n",
              "    </tr>\n",
              "  </thead>\n",
              "  <tbody>\n",
              "    <tr>\n",
              "      <th>45568</th>\n",
              "      <td>I figured the whole joke of the movie would be to see some rich white guy acting like Chris Rock, and then see Chris Rock react to people's reactions. Instead you just see Chris Rock being himself and people not understanding him. There are maybe 2 scenes in the entire movie where they use their gimmick. This should have been a lot better.</td>\n",
              "    </tr>\n",
              "    <tr>\n",
              "      <th>17324</th>\n",
              "      <td>Enormous suspension of disbelief is required where Will's \"genius\" is concerned. Not just in math--he is also very well read in economic history, able to out-shrink several shrinks, etc etc. No, no, no. I don't buy it. While they're at it, they might as well have him wearing a big \"S\" on his chest, flying faster than a jet plane and stopping bullets.&lt;br /&gt;&lt;br /&gt;Among other problems...real genius (shelving for the moment the problem of what it really is, and whether it deserves such mindless homage) doesn't simply appear /ex nihilo/. It isn't ever so multi-faceted. And it is very rarely appreciated by contemporaries.&lt;br /&gt;&lt;br /&gt;Better to have made Will a basketball prodigy. Except that Damon's too short.</td>\n",
              "    </tr>\n",
              "    <tr>\n",
              "      <th>10699</th>\n",
              "      <td>How has this piece of crap stayed on TV this long? It's terrible. It makes me want to shoot someone. It's so fake that it is actually worse than a 1940s sci-fi movie. I'd rather have a stroke than watch this nonsense. I remember watching it when it first came out. I thought, hey this could be interesting, then I found out how absolutely, insanely, ridiculously stupid it really was. It was so bad that I actually took out my pocket knife and stuck my hand to the table.&lt;br /&gt;&lt;br /&gt;Please people, stop watching this and all other reality shows, they're the trash that is jamming the networks and canceling quality programming that requires some thought to create.</td>\n",
              "    </tr>\n",
              "  </tbody>\n",
              "</table>\n",
              "</div><br><label><b>dtype:</b> object</label>"
            ]
          },
          "metadata": {},
          "execution_count": 14
        }
      ]
    },
    {
      "cell_type": "markdown",
      "source": [
        "## Train-Test Split"
      ],
      "metadata": {
        "id": "bj851kUDTMMp"
      }
    },
    {
      "cell_type": "code",
      "source": [
        "X = df[['review']]\n",
        "y = df['sentiment']"
      ],
      "metadata": {
        "id": "zQlwbQezKeYq"
      },
      "execution_count": null,
      "outputs": []
    },
    {
      "cell_type": "code",
      "source": [
        "from sklearn.model_selection import train_test_split\n",
        "\n",
        "X_train, X_test, y_train, y_test = train_test_split(X, y, test_size=0.1, random_state=42)"
      ],
      "metadata": {
        "id": "tbeSIo5yTLmD"
      },
      "execution_count": null,
      "outputs": []
    },
    {
      "cell_type": "markdown",
      "source": [
        "since this is an NLP task, 9:1 split ratio was chosen to all the models to train on more data and better capture complex language patterns  "
      ],
      "metadata": {
        "id": "qZD29jaS8g4p"
      }
    },
    {
      "cell_type": "code",
      "source": [
        "print(X_train.shape, X_test.shape)"
      ],
      "metadata": {
        "id": "viz3e1brL5A8",
        "colab": {
          "base_uri": "https://localhost:8080/"
        },
        "outputId": "cc0a8db6-934f-4aaf-dac4-6e2990cffef0"
      },
      "execution_count": null,
      "outputs": [
        {
          "output_type": "stream",
          "name": "stdout",
          "text": [
            "(44623, 1) (4959, 1)\n"
          ]
        }
      ]
    },
    {
      "cell_type": "markdown",
      "source": [
        "## Preparing Reviews for Modeling\n",
        "\n",
        "\n",
        "\n"
      ],
      "metadata": {
        "id": "0m-ZiKPGYsCK"
      }
    },
    {
      "cell_type": "markdown",
      "source": [
        "**Preprocessing steps to be applied:**\n",
        "\n",
        "1. Remove html tags\n",
        "2. Convert to lowercase\n",
        "3. Remove unwanted punctuation and characters, expand contractions (e.g. dont' = do not)\n",
        "4. Tokenization — split text into words (tokens)\n",
        "5. Remove stopwords (common words like “the”, “is”, “and” that add little meaning)\n",
        "6. Lemmatization or Stemming\n",
        "7. Vectorization"
      ],
      "metadata": {
        "id": "ghs2RFf6YzPc"
      }
    },
    {
      "cell_type": "code",
      "source": [
        "!pip install contractions"
      ],
      "metadata": {
        "id": "kldZye2nSCIF",
        "colab": {
          "base_uri": "https://localhost:8080/"
        },
        "outputId": "105cfab7-641a-4a40-d592-944838ddf1ab"
      },
      "execution_count": null,
      "outputs": [
        {
          "output_type": "stream",
          "name": "stdout",
          "text": [
            "Requirement already satisfied: contractions in /usr/local/lib/python3.11/dist-packages (0.1.73)\n",
            "Requirement already satisfied: textsearch>=0.0.21 in /usr/local/lib/python3.11/dist-packages (from contractions) (0.0.24)\n",
            "Requirement already satisfied: anyascii in /usr/local/lib/python3.11/dist-packages (from textsearch>=0.0.21->contractions) (0.3.3)\n",
            "Requirement already satisfied: pyahocorasick in /usr/local/lib/python3.11/dist-packages (from textsearch>=0.0.21->contractions) (2.2.0)\n"
          ]
        }
      ]
    },
    {
      "cell_type": "code",
      "source": [
        "import string\n",
        "import nltk\n",
        "from nltk.corpus import stopwords\n",
        "from nltk.corpus import wordnet\n",
        "from nltk.stem import WordNetLemmatizer\n",
        "from nltk import pos_tag\n",
        "from nltk.tokenize import word_tokenize\n",
        "from bs4 import BeautifulSoup\n",
        "import contractions\n",
        "import re"
      ],
      "metadata": {
        "id": "DqL_mGS6Yw98"
      },
      "execution_count": null,
      "outputs": []
    },
    {
      "cell_type": "code",
      "source": [
        "nltk.download('stopwords')\n",
        "nltk.download('punkt')\n",
        "nltk.download('wordnet')\n",
        "nltk.download('omw-1.4')\n",
        "nltk.download('averaged_perceptron_tagger_eng')"
      ],
      "metadata": {
        "id": "lk6RJ6ySZoC8",
        "colab": {
          "base_uri": "https://localhost:8080/"
        },
        "outputId": "3708af4c-eef8-4bc4-cfd4-8b3dec946f2d"
      },
      "execution_count": null,
      "outputs": [
        {
          "output_type": "stream",
          "name": "stderr",
          "text": [
            "[nltk_data] Downloading package stopwords to /root/nltk_data...\n",
            "[nltk_data]   Package stopwords is already up-to-date!\n",
            "[nltk_data] Downloading package punkt to /root/nltk_data...\n",
            "[nltk_data]   Package punkt is already up-to-date!\n",
            "[nltk_data] Downloading package wordnet to /root/nltk_data...\n",
            "[nltk_data]   Package wordnet is already up-to-date!\n",
            "[nltk_data] Downloading package omw-1.4 to /root/nltk_data...\n",
            "[nltk_data]   Package omw-1.4 is already up-to-date!\n",
            "[nltk_data] Downloading package averaged_perceptron_tagger_eng to\n",
            "[nltk_data]     /root/nltk_data...\n",
            "[nltk_data]   Package averaged_perceptron_tagger_eng is already up-to-\n",
            "[nltk_data]       date!\n"
          ]
        },
        {
          "output_type": "execute_result",
          "data": {
            "text/plain": [
              "True"
            ]
          },
          "metadata": {},
          "execution_count": 20
        }
      ]
    },
    {
      "cell_type": "code",
      "source": [
        "#remove html tags\n",
        "\n",
        "def remove_tags(text):\n",
        "  soup = BeautifulSoup(text, \"html.parser\")\n",
        "  return soup.get_text()\n",
        "\n",
        "def to_lower(text):\n",
        "  return text.lower()\n",
        "\n",
        "def expand_contractions(text):\n",
        "  return contractions.fix(text)\n",
        "\n",
        "def remove_noise(text):\n",
        "  pattern = r'[^a-zA-Z0-9\\s]'\n",
        "  return re.sub(pattern, '', text)\n",
        "\n",
        "def clean_text(text):\n",
        "  text_no_tags = remove_tags(text)\n",
        "  text_lower = to_lower(text_no_tags)\n",
        "  text_expanded = expand_contractions(text_lower)\n",
        "  text_cleaned = remove_noise(text_expanded)\n",
        "  return text_cleaned"
      ],
      "metadata": {
        "id": "Q1p8XcoKO2nN"
      },
      "execution_count": null,
      "outputs": []
    },
    {
      "cell_type": "code",
      "source": [
        "X_train['review_cleaned'] = X_train['review'].astype(str).apply(clean_text)\n",
        "X_test['review_cleaned'] = X_test['review'].astype(str).apply(clean_text)"
      ],
      "metadata": {
        "id": "LWR-a0PEU7Tn"
      },
      "execution_count": null,
      "outputs": []
    },
    {
      "cell_type": "code",
      "source": [
        "def tokenize_text(text):\n",
        "  return word_tokenize(text, language='english', preserve_line=True)\n",
        "\n",
        "X_train['review_tokenized'] = X_train['review_cleaned'].astype(str).apply(tokenize_text)\n",
        "X_test['review_tokenized'] = X_test['review_cleaned'].astype(str).apply(tokenize_text)"
      ],
      "metadata": {
        "id": "MhZAXPIMVc5k"
      },
      "execution_count": null,
      "outputs": []
    },
    {
      "cell_type": "code",
      "source": [
        "X_train[['review_cleaned', 'review_tokenized']].sample()"
      ],
      "metadata": {
        "id": "OmgaaxqJdn2t",
        "colab": {
          "base_uri": "https://localhost:8080/",
          "height": 167
        },
        "outputId": "e23100cf-e200-4367-dc5c-b8e46e93a2ff"
      },
      "execution_count": null,
      "outputs": [
        {
          "output_type": "execute_result",
          "data": {
            "text/plain": [
              "                                                                                                                                                                                                                                                                                                                                                                                                                                                                                                                                                                   review_cleaned  \\\n",
              "1044  a good documentary reviewing the background behind our societies oil addiction the problem concerning our present energy usage and finally discusses the effects of the coming energy deficit originating from the peak oil production problemthis movie should be educated to all students as part of their education show it to your children parents relatives and friends they will thank you eventuallyafter reviewing the contents of this documentary and comparing its mentioned sources i would say that the facts in this movie are well scientifically supported   \n",
              "\n",
              "                                                                                                                                                                                                                                                                                                                                                                                                                                                                                                                                                                                                                                                       review_tokenized  \n",
              "1044  [a, good, documentary, reviewing, the, background, behind, our, societies, oil, addiction, the, problem, concerning, our, present, energy, usage, and, finally, discusses, the, effects, of, the, coming, energy, deficit, originating, from, the, peak, oil, production, problemthis, movie, should, be, educated, to, all, students, as, part, of, their, education, show, it, to, your, children, parents, relatives, and, friends, they, will, thank, you, eventuallyafter, reviewing, the, contents, of, this, documentary, and, comparing, its, mentioned, sources, i, would, say, that, the, facts, in, this, movie, are, well, scientifically, supported]  "
            ],
            "text/html": [
              "\n",
              "  <div id=\"df-055ca6f8-35e3-443e-adec-a2717ca9e29a\" class=\"colab-df-container\">\n",
              "    <div>\n",
              "<style scoped>\n",
              "    .dataframe tbody tr th:only-of-type {\n",
              "        vertical-align: middle;\n",
              "    }\n",
              "\n",
              "    .dataframe tbody tr th {\n",
              "        vertical-align: top;\n",
              "    }\n",
              "\n",
              "    .dataframe thead th {\n",
              "        text-align: right;\n",
              "    }\n",
              "</style>\n",
              "<table border=\"1\" class=\"dataframe\">\n",
              "  <thead>\n",
              "    <tr style=\"text-align: right;\">\n",
              "      <th></th>\n",
              "      <th>review_cleaned</th>\n",
              "      <th>review_tokenized</th>\n",
              "    </tr>\n",
              "  </thead>\n",
              "  <tbody>\n",
              "    <tr>\n",
              "      <th>1044</th>\n",
              "      <td>a good documentary reviewing the background behind our societies oil addiction the problem concerning our present energy usage and finally discusses the effects of the coming energy deficit originating from the peak oil production problemthis movie should be educated to all students as part of their education show it to your children parents relatives and friends they will thank you eventuallyafter reviewing the contents of this documentary and comparing its mentioned sources i would say that the facts in this movie are well scientifically supported</td>\n",
              "      <td>[a, good, documentary, reviewing, the, background, behind, our, societies, oil, addiction, the, problem, concerning, our, present, energy, usage, and, finally, discusses, the, effects, of, the, coming, energy, deficit, originating, from, the, peak, oil, production, problemthis, movie, should, be, educated, to, all, students, as, part, of, their, education, show, it, to, your, children, parents, relatives, and, friends, they, will, thank, you, eventuallyafter, reviewing, the, contents, of, this, documentary, and, comparing, its, mentioned, sources, i, would, say, that, the, facts, in, this, movie, are, well, scientifically, supported]</td>\n",
              "    </tr>\n",
              "  </tbody>\n",
              "</table>\n",
              "</div>\n",
              "    <div class=\"colab-df-buttons\">\n",
              "\n",
              "  <div class=\"colab-df-container\">\n",
              "    <button class=\"colab-df-convert\" onclick=\"convertToInteractive('df-055ca6f8-35e3-443e-adec-a2717ca9e29a')\"\n",
              "            title=\"Convert this dataframe to an interactive table.\"\n",
              "            style=\"display:none;\">\n",
              "\n",
              "  <svg xmlns=\"http://www.w3.org/2000/svg\" height=\"24px\" viewBox=\"0 -960 960 960\">\n",
              "    <path d=\"M120-120v-720h720v720H120Zm60-500h600v-160H180v160Zm220 220h160v-160H400v160Zm0 220h160v-160H400v160ZM180-400h160v-160H180v160Zm440 0h160v-160H620v160ZM180-180h160v-160H180v160Zm440 0h160v-160H620v160Z\"/>\n",
              "  </svg>\n",
              "    </button>\n",
              "\n",
              "  <style>\n",
              "    .colab-df-container {\n",
              "      display:flex;\n",
              "      gap: 12px;\n",
              "    }\n",
              "\n",
              "    .colab-df-convert {\n",
              "      background-color: #E8F0FE;\n",
              "      border: none;\n",
              "      border-radius: 50%;\n",
              "      cursor: pointer;\n",
              "      display: none;\n",
              "      fill: #1967D2;\n",
              "      height: 32px;\n",
              "      padding: 0 0 0 0;\n",
              "      width: 32px;\n",
              "    }\n",
              "\n",
              "    .colab-df-convert:hover {\n",
              "      background-color: #E2EBFA;\n",
              "      box-shadow: 0px 1px 2px rgba(60, 64, 67, 0.3), 0px 1px 3px 1px rgba(60, 64, 67, 0.15);\n",
              "      fill: #174EA6;\n",
              "    }\n",
              "\n",
              "    .colab-df-buttons div {\n",
              "      margin-bottom: 4px;\n",
              "    }\n",
              "\n",
              "    [theme=dark] .colab-df-convert {\n",
              "      background-color: #3B4455;\n",
              "      fill: #D2E3FC;\n",
              "    }\n",
              "\n",
              "    [theme=dark] .colab-df-convert:hover {\n",
              "      background-color: #434B5C;\n",
              "      box-shadow: 0px 1px 3px 1px rgba(0, 0, 0, 0.15);\n",
              "      filter: drop-shadow(0px 1px 2px rgba(0, 0, 0, 0.3));\n",
              "      fill: #FFFFFF;\n",
              "    }\n",
              "  </style>\n",
              "\n",
              "    <script>\n",
              "      const buttonEl =\n",
              "        document.querySelector('#df-055ca6f8-35e3-443e-adec-a2717ca9e29a button.colab-df-convert');\n",
              "      buttonEl.style.display =\n",
              "        google.colab.kernel.accessAllowed ? 'block' : 'none';\n",
              "\n",
              "      async function convertToInteractive(key) {\n",
              "        const element = document.querySelector('#df-055ca6f8-35e3-443e-adec-a2717ca9e29a');\n",
              "        const dataTable =\n",
              "          await google.colab.kernel.invokeFunction('convertToInteractive',\n",
              "                                                    [key], {});\n",
              "        if (!dataTable) return;\n",
              "\n",
              "        const docLinkHtml = 'Like what you see? Visit the ' +\n",
              "          '<a target=\"_blank\" href=https://colab.research.google.com/notebooks/data_table.ipynb>data table notebook</a>'\n",
              "          + ' to learn more about interactive tables.';\n",
              "        element.innerHTML = '';\n",
              "        dataTable['output_type'] = 'display_data';\n",
              "        await google.colab.output.renderOutput(dataTable, element);\n",
              "        const docLink = document.createElement('div');\n",
              "        docLink.innerHTML = docLinkHtml;\n",
              "        element.appendChild(docLink);\n",
              "      }\n",
              "    </script>\n",
              "  </div>\n",
              "\n",
              "\n",
              "    </div>\n",
              "  </div>\n"
            ],
            "application/vnd.google.colaboratory.intrinsic+json": {
              "type": "dataframe",
              "summary": "{\n  \"name\": \"X_train[['review_cleaned', 'review_tokenized']]\",\n  \"rows\": 1,\n  \"fields\": [\n    {\n      \"column\": \"review_cleaned\",\n      \"properties\": {\n        \"dtype\": \"string\",\n        \"num_unique_values\": 1,\n        \"samples\": [\n          \"a good documentary reviewing the background behind our societies oil addiction the problem concerning our present energy usage and finally discusses the effects of the coming energy deficit originating from the peak oil production problemthis movie should be educated to all students as part of their education show it to your children parents relatives and friends they will thank you eventuallyafter reviewing the contents of this documentary and comparing its mentioned sources i would say that the facts in this movie are well scientifically supported\"\n        ],\n        \"semantic_type\": \"\",\n        \"description\": \"\"\n      }\n    },\n    {\n      \"column\": \"review_tokenized\",\n      \"properties\": {\n        \"dtype\": \"object\",\n        \"semantic_type\": \"\",\n        \"description\": \"\"\n      }\n    }\n  ]\n}"
            }
          },
          "metadata": {},
          "execution_count": 25
        }
      ]
    },
    {
      "cell_type": "code",
      "source": [
        "from nltk.corpus import stopwords\n",
        "\n",
        "stop_words = set(stopwords.words('english'))\n",
        "\n",
        "# negations should be kept\n",
        "negations = {'no', 'nor', 'not'}\n",
        "custom_stopwords = stop_words - negations\n",
        "\n",
        "def remove_stopwords(tokens):\n",
        "    return [word for word in tokens if word not in custom_stopwords]\n",
        "\n",
        "X_train['review_tokenized'] = X_train['review_tokenized'].apply(remove_stopwords)\n",
        "X_test['review_tokenized'] = X_test['review_tokenized'].apply(remove_stopwords)"
      ],
      "metadata": {
        "id": "19aEzWYfLE_v"
      },
      "execution_count": null,
      "outputs": []
    },
    {
      "cell_type": "code",
      "source": [
        "def get_wordnet_pos(treebank_tag):\n",
        "    if treebank_tag.startswith('J'):\n",
        "        return wordnet.ADJ\n",
        "    elif treebank_tag.startswith('V'):\n",
        "        return wordnet.VERB\n",
        "    elif treebank_tag.startswith('N'):\n",
        "        return wordnet.NOUN\n",
        "    elif treebank_tag.startswith('R'):\n",
        "        return wordnet.ADV\n",
        "    else:\n",
        "        return wordnet.NOUN\n",
        "\n",
        "lemmatizer = WordNetLemmatizer()\n",
        "\n",
        "def lemmatize_tokens(tokens):\n",
        "    pos_tags = pos_tag(tokens)\n",
        "    return [lemmatizer.lemmatize(word, get_wordnet_pos(pos)) for word, pos in pos_tags]\n",
        "\n",
        "X_train['review_tokenized'] = X_train['review_tokenized'].apply(lemmatize_tokens)\n",
        "X_test['review_tokenized'] = X_test['review_tokenized'].apply(lemmatize_tokens)"
      ],
      "metadata": {
        "id": "8q6zOR-GcA5J"
      },
      "execution_count": null,
      "outputs": []
    },
    {
      "cell_type": "code",
      "source": [
        "X_train[['review_tokenized', 'review_cleaned']].sample()"
      ],
      "metadata": {
        "id": "qnou1Ngwdyp0",
        "colab": {
          "base_uri": "https://localhost:8080/",
          "height": 271
        },
        "outputId": "48305736-8109-4aed-e89b-2fbdc31a21a6"
      },
      "execution_count": null,
      "outputs": [
        {
          "output_type": "execute_result",
          "data": {
            "text/plain": [
              "                                                                                                                                                                                                                                                                                                                                                                                                                                                                                                                                                                                                                                                                                                                                                                                                                         review_tokenized  \\\n",
              "31067  [anyone, give, reason, one, american, die, movie, suppose, emotional, scene, yet, operation, delta, force, team, kill, hundred, russian, slowmotion, action, scene, thousand, arab, also, slowmotion, action, scene, suppose, cheer, say, take, nonamerican, monster, know, use, slowmotion, action, scene, lot, every, action, scene, movie, guess, slowmotion, every, last, one, squad, call, invincible, slowmotion, bulletdodging, force, since, seem, supernatural, power, help, dodge, bullet, supernatural, power, fails, kind, regeneration, superpower, need, kill, complete, nonamerican, army, stand, victory, point, nobody, care, since, put, sleep, another, laughable, slowmotion, action, scene, not, laugh, loud, bad, act, cheesy, dialogue, incredibly, poor, story, cast, make, unknown, actor, probably, ...]   \n",
              "\n",
              "                                                                                                                                                                                                                                                                                                                                                                                                                                                                                                                                                                                                                                                                                                                                                                                                                                                                                                                                                                                                                                                                                                                                                                                                                                                                                                                                                                                                                                                                                                                              review_cleaned  \n",
              "31067  can anyone give me a reason why only one american dies in this movie and when he does it is supposed to be a very emotional scene yet when the operation delta force team kills hundreds of russians in slowmotion action scenes or thousands of arabs also in slowmotion action scenes you are supposed to cheer and say take that you nonamerican monsters i know i used slowmotion action scenes a lot but that is because every action scene in this movie is in you guessed it slowmotion every last one of them and this squad should be called invincible slowmotion bulletdodging force since they seem to have supernatural powers that help them to dodge bullets and if this supernatural power fails they have some kind of regeneration superpower which is all they need to kill the complete nonamerican army that stands between them and victory by this point nobody cares since they have been put to sleep by another laughable slowmotion action scene that is if they are not laughing out loud at the bad acting cheesy dialogues and incredibly poor story which is what i did the cast is made of unknown actors which will probably remain unknown since they do not even play characters they are just playing guys with gunsand let us not forget superpowers the only quality is that the special effects are surprisingly not that badalthough they are in slowmotion for a tv movie but it still sucks and at the same time is so bad it is good ok maybe at the end it gets a little too repetitive25  "
            ],
            "text/html": [
              "\n",
              "  <div id=\"df-f693f8fa-ee82-4421-83de-cf3e070f6b2d\" class=\"colab-df-container\">\n",
              "    <div>\n",
              "<style scoped>\n",
              "    .dataframe tbody tr th:only-of-type {\n",
              "        vertical-align: middle;\n",
              "    }\n",
              "\n",
              "    .dataframe tbody tr th {\n",
              "        vertical-align: top;\n",
              "    }\n",
              "\n",
              "    .dataframe thead th {\n",
              "        text-align: right;\n",
              "    }\n",
              "</style>\n",
              "<table border=\"1\" class=\"dataframe\">\n",
              "  <thead>\n",
              "    <tr style=\"text-align: right;\">\n",
              "      <th></th>\n",
              "      <th>review_tokenized</th>\n",
              "      <th>review_cleaned</th>\n",
              "    </tr>\n",
              "  </thead>\n",
              "  <tbody>\n",
              "    <tr>\n",
              "      <th>31067</th>\n",
              "      <td>[anyone, give, reason, one, american, die, movie, suppose, emotional, scene, yet, operation, delta, force, team, kill, hundred, russian, slowmotion, action, scene, thousand, arab, also, slowmotion, action, scene, suppose, cheer, say, take, nonamerican, monster, know, use, slowmotion, action, scene, lot, every, action, scene, movie, guess, slowmotion, every, last, one, squad, call, invincible, slowmotion, bulletdodging, force, since, seem, supernatural, power, help, dodge, bullet, supernatural, power, fails, kind, regeneration, superpower, need, kill, complete, nonamerican, army, stand, victory, point, nobody, care, since, put, sleep, another, laughable, slowmotion, action, scene, not, laugh, loud, bad, act, cheesy, dialogue, incredibly, poor, story, cast, make, unknown, actor, probably, ...]</td>\n",
              "      <td>can anyone give me a reason why only one american dies in this movie and when he does it is supposed to be a very emotional scene yet when the operation delta force team kills hundreds of russians in slowmotion action scenes or thousands of arabs also in slowmotion action scenes you are supposed to cheer and say take that you nonamerican monsters i know i used slowmotion action scenes a lot but that is because every action scene in this movie is in you guessed it slowmotion every last one of them and this squad should be called invincible slowmotion bulletdodging force since they seem to have supernatural powers that help them to dodge bullets and if this supernatural power fails they have some kind of regeneration superpower which is all they need to kill the complete nonamerican army that stands between them and victory by this point nobody cares since they have been put to sleep by another laughable slowmotion action scene that is if they are not laughing out loud at the bad acting cheesy dialogues and incredibly poor story which is what i did the cast is made of unknown actors which will probably remain unknown since they do not even play characters they are just playing guys with gunsand let us not forget superpowers the only quality is that the special effects are surprisingly not that badalthough they are in slowmotion for a tv movie but it still sucks and at the same time is so bad it is good ok maybe at the end it gets a little too repetitive25</td>\n",
              "    </tr>\n",
              "  </tbody>\n",
              "</table>\n",
              "</div>\n",
              "    <div class=\"colab-df-buttons\">\n",
              "\n",
              "  <div class=\"colab-df-container\">\n",
              "    <button class=\"colab-df-convert\" onclick=\"convertToInteractive('df-f693f8fa-ee82-4421-83de-cf3e070f6b2d')\"\n",
              "            title=\"Convert this dataframe to an interactive table.\"\n",
              "            style=\"display:none;\">\n",
              "\n",
              "  <svg xmlns=\"http://www.w3.org/2000/svg\" height=\"24px\" viewBox=\"0 -960 960 960\">\n",
              "    <path d=\"M120-120v-720h720v720H120Zm60-500h600v-160H180v160Zm220 220h160v-160H400v160Zm0 220h160v-160H400v160ZM180-400h160v-160H180v160Zm440 0h160v-160H620v160ZM180-180h160v-160H180v160Zm440 0h160v-160H620v160Z\"/>\n",
              "  </svg>\n",
              "    </button>\n",
              "\n",
              "  <style>\n",
              "    .colab-df-container {\n",
              "      display:flex;\n",
              "      gap: 12px;\n",
              "    }\n",
              "\n",
              "    .colab-df-convert {\n",
              "      background-color: #E8F0FE;\n",
              "      border: none;\n",
              "      border-radius: 50%;\n",
              "      cursor: pointer;\n",
              "      display: none;\n",
              "      fill: #1967D2;\n",
              "      height: 32px;\n",
              "      padding: 0 0 0 0;\n",
              "      width: 32px;\n",
              "    }\n",
              "\n",
              "    .colab-df-convert:hover {\n",
              "      background-color: #E2EBFA;\n",
              "      box-shadow: 0px 1px 2px rgba(60, 64, 67, 0.3), 0px 1px 3px 1px rgba(60, 64, 67, 0.15);\n",
              "      fill: #174EA6;\n",
              "    }\n",
              "\n",
              "    .colab-df-buttons div {\n",
              "      margin-bottom: 4px;\n",
              "    }\n",
              "\n",
              "    [theme=dark] .colab-df-convert {\n",
              "      background-color: #3B4455;\n",
              "      fill: #D2E3FC;\n",
              "    }\n",
              "\n",
              "    [theme=dark] .colab-df-convert:hover {\n",
              "      background-color: #434B5C;\n",
              "      box-shadow: 0px 1px 3px 1px rgba(0, 0, 0, 0.15);\n",
              "      filter: drop-shadow(0px 1px 2px rgba(0, 0, 0, 0.3));\n",
              "      fill: #FFFFFF;\n",
              "    }\n",
              "  </style>\n",
              "\n",
              "    <script>\n",
              "      const buttonEl =\n",
              "        document.querySelector('#df-f693f8fa-ee82-4421-83de-cf3e070f6b2d button.colab-df-convert');\n",
              "      buttonEl.style.display =\n",
              "        google.colab.kernel.accessAllowed ? 'block' : 'none';\n",
              "\n",
              "      async function convertToInteractive(key) {\n",
              "        const element = document.querySelector('#df-f693f8fa-ee82-4421-83de-cf3e070f6b2d');\n",
              "        const dataTable =\n",
              "          await google.colab.kernel.invokeFunction('convertToInteractive',\n",
              "                                                    [key], {});\n",
              "        if (!dataTable) return;\n",
              "\n",
              "        const docLinkHtml = 'Like what you see? Visit the ' +\n",
              "          '<a target=\"_blank\" href=https://colab.research.google.com/notebooks/data_table.ipynb>data table notebook</a>'\n",
              "          + ' to learn more about interactive tables.';\n",
              "        element.innerHTML = '';\n",
              "        dataTable['output_type'] = 'display_data';\n",
              "        await google.colab.output.renderOutput(dataTable, element);\n",
              "        const docLink = document.createElement('div');\n",
              "        docLink.innerHTML = docLinkHtml;\n",
              "        element.appendChild(docLink);\n",
              "      }\n",
              "    </script>\n",
              "  </div>\n",
              "\n",
              "\n",
              "    </div>\n",
              "  </div>\n"
            ],
            "application/vnd.google.colaboratory.intrinsic+json": {
              "type": "dataframe",
              "summary": "{\n  \"name\": \"X_train[['review_tokenized', 'review_cleaned']]\",\n  \"rows\": 1,\n  \"fields\": [\n    {\n      \"column\": \"review_tokenized\",\n      \"properties\": {\n        \"dtype\": \"object\",\n        \"semantic_type\": \"\",\n        \"description\": \"\"\n      }\n    },\n    {\n      \"column\": \"review_cleaned\",\n      \"properties\": {\n        \"dtype\": \"string\",\n        \"num_unique_values\": 1,\n        \"samples\": [\n          \"can anyone give me a reason why only one american dies in this movie and when he does it is supposed to be a very emotional scene yet when the operation delta force team kills hundreds of russians in slowmotion action scenes or thousands of arabs also in slowmotion action scenes you are supposed to cheer and say take that you nonamerican monsters i know i used slowmotion action scenes a lot but that is because every action scene in this movie is in you guessed it slowmotion every last one of them and this squad should be called invincible slowmotion bulletdodging force since they seem to have supernatural powers that help them to dodge bullets and if this supernatural power fails they have some kind of regeneration superpower which is all they need to kill the complete nonamerican army that stands between them and victory by this point nobody cares since they have been put to sleep by another laughable slowmotion action scene that is if they are not laughing out loud at the bad acting cheesy dialogues and incredibly poor story which is what i did the cast is made of unknown actors which will probably remain unknown since they do not even play characters they are just playing guys with gunsand let us not forget superpowers the only quality is that the special effects are surprisingly not that badalthough they are in slowmotion for a tv movie but it still sucks and at the same time is so bad it is good ok maybe at the end it gets a little too repetitive25\"\n        ],\n        \"semantic_type\": \"\",\n        \"description\": \"\"\n      }\n    }\n  ]\n}"
            }
          },
          "metadata": {},
          "execution_count": 28
        }
      ]
    },
    {
      "cell_type": "markdown",
      "source": [
        "### Vectorization"
      ],
      "metadata": {
        "id": "Vh33V1dLl4eG"
      }
    },
    {
      "cell_type": "code",
      "source": [
        "X_train['review'] = X_train['review_tokenized'].apply(lambda tokens: ' '.join(tokens))\n",
        "X_test['review'] = X_test['review_tokenized'].apply(lambda tokens: ' '.join(tokens))"
      ],
      "metadata": {
        "id": "9z6O7UyoeMaB"
      },
      "execution_count": null,
      "outputs": []
    },
    {
      "cell_type": "code",
      "source": [
        "X_train = X_train['review']\n",
        "X_test = X_test['review']"
      ],
      "metadata": {
        "id": "Curzv1YGmp4d"
      },
      "execution_count": null,
      "outputs": []
    },
    {
      "cell_type": "code",
      "source": [
        "from sklearn.feature_extraction.text import TfidfVectorizer\n",
        "\n",
        "# vectorizer = TfidfVectorizer()\n",
        "vectorizer = TfidfVectorizer(ngram_range=(1, 2))\n",
        "\n",
        "X_train = vectorizer.fit_transform(X_train)\n",
        "X_test = vectorizer.transform(X_test)"
      ],
      "metadata": {
        "id": "ogc4gq3wnGFN"
      },
      "execution_count": null,
      "outputs": []
    },
    {
      "cell_type": "code",
      "source": [
        "print(X_train.shape, X_test.shape)"
      ],
      "metadata": {
        "id": "HAysle3tofRc",
        "colab": {
          "base_uri": "https://localhost:8080/"
        },
        "outputId": "24cd01ad-a643-4ec9-c9f1-f0ff9b06caa4"
      },
      "execution_count": null,
      "outputs": [
        {
          "output_type": "stream",
          "name": "stdout",
          "text": [
            "(44623, 2834579) (4959, 2834579)\n"
          ]
        }
      ]
    },
    {
      "cell_type": "markdown",
      "source": [
        "Features are ready for modeling, now target classes have to be converted to numerical form"
      ],
      "metadata": {
        "id": "Ox46GrgYEixL"
      }
    },
    {
      "cell_type": "markdown",
      "source": [
        "### Label Encoding for Target Classes"
      ],
      "metadata": {
        "id": "hvOeDJFDExVu"
      }
    },
    {
      "cell_type": "code",
      "source": [
        "from sklearn.preprocessing import LabelEncoder\n",
        "\n",
        "le = LabelEncoder()\n",
        "y_train = le.fit_transform(y_train)\n",
        "y_test = le.transform(y_test)"
      ],
      "metadata": {
        "id": "hJYPYkbNEwZB"
      },
      "execution_count": null,
      "outputs": []
    },
    {
      "cell_type": "code",
      "source": [
        "print(y_train, y_test)"
      ],
      "metadata": {
        "colab": {
          "base_uri": "https://localhost:8080/"
        },
        "id": "o3YcwubhFaMr",
        "outputId": "08b74b59-06c3-4d43-a604-070e16eeddcb"
      },
      "execution_count": null,
      "outputs": [
        {
          "output_type": "stream",
          "name": "stdout",
          "text": [
            "[0 1 1 ... 0 1 1] [0 1 0 ... 0 0 0]\n"
          ]
        }
      ]
    },
    {
      "cell_type": "markdown",
      "source": [
        "## Modeling using Logistic Regression"
      ],
      "metadata": {
        "id": "182bsUTNFhYL"
      }
    },
    {
      "cell_type": "code",
      "source": [
        "from sklearn.linear_model import LogisticRegression\n",
        "\n",
        "lr = LogisticRegression(penalty='l2', max_iter=500, C=1, random_state=42)\n",
        "model_lr =lr.fit(X_train, y_train)"
      ],
      "metadata": {
        "id": "barO8cgKFinC"
      },
      "execution_count": null,
      "outputs": []
    },
    {
      "cell_type": "code",
      "source": [
        "y_pred_lr = lr.predict(X_test)"
      ],
      "metadata": {
        "id": "xkHvD3v3Hxh5"
      },
      "execution_count": null,
      "outputs": []
    },
    {
      "cell_type": "code",
      "source": [
        "from sklearn.metrics import confusion_matrix, classification_report, accuracy_score\n",
        "from sklearn.metrics import ConfusionMatrixDisplay\n",
        "\n",
        "\n",
        "cm = confusion_matrix(y_test, y_pred_lr)\n",
        "sns.heatmap(cm, annot=True, fmt='d', cmap='Blues', xticklabels=le.classes_, yticklabels=le.classes_)\n",
        "plt.xlabel('Predicted')\n",
        "plt.ylabel('Actual')\n",
        "plt.title('Confusion Matrix')\n",
        "plt.show()\n",
        "print(\"Classification Report:\")\n",
        "print(classification_report(y_test, y_pred_lr, target_names=['negative', 'positive']))\n",
        "\n",
        "# 4. Print accuracy\n",
        "acc = accuracy_score(y_test, y_pred_lr)\n",
        "print(f\"Accuracy: {acc:.4f}\")"
      ],
      "metadata": {
        "colab": {
          "base_uri": "https://localhost:8080/",
          "height": 663
        },
        "id": "ImDFTUlWH-wU",
        "outputId": "f0758b75-6770-4b17-cb21-7e4e2dcb13bb"
      },
      "execution_count": null,
      "outputs": [
        {
          "output_type": "display_data",
          "data": {
            "text/plain": [
              "<Figure size 640x480 with 2 Axes>"
            ],
            "image/png": "[encoded data removed]"
          },
          "metadata": {}
        },
        {
          "output_type": "stream",
          "name": "stdout",
          "text": [
            "Classification Report:\n",
            "              precision    recall  f1-score   support\n",
            "\n",
            "    negative       0.90      0.87      0.89      2487\n",
            "    positive       0.88      0.90      0.89      2472\n",
            "\n",
            "    accuracy                           0.89      4959\n",
            "   macro avg       0.89      0.89      0.89      4959\n",
            "weighted avg       0.89      0.89      0.89      4959\n",
            "\n",
            "Accuracy: 0.8883\n"
          ]
        }
      ]
    },
    {
      "cell_type": "markdown",
      "source": [
        "the performance is very well, great balance between precision and recall"
      ],
      "metadata": {
        "id": "XbFLrokR-wba"
      }
    },
    {
      "cell_type": "markdown",
      "source": [
        "## Modeling with Naive Bayes Classifier"
      ],
      "metadata": {
        "id": "kOIdATVmIm_Z"
      }
    },
    {
      "cell_type": "code",
      "source": [
        "from sklearn.naive_bayes import MultinomialNB\n",
        "\n",
        "nb = MultinomialNB()\n",
        "model_nb = nb.fit(X_train, y_train)"
      ],
      "metadata": {
        "id": "kepkyL1GJlC9"
      },
      "execution_count": null,
      "outputs": []
    },
    {
      "cell_type": "code",
      "source": [
        "y_pred_nb = model_nb.predict(X_test)"
      ],
      "metadata": {
        "id": "8AfFfZE0Kd-z"
      },
      "execution_count": null,
      "outputs": []
    },
    {
      "cell_type": "code",
      "source": [
        "cm = confusion_matrix(y_test, y_pred_nb)\n",
        "sns.heatmap(cm, annot=True, fmt='d', cmap='Blues', xticklabels=le.classes_, yticklabels=le.classes_)\n",
        "plt.xlabel('Predicted')\n",
        "plt.ylabel('Actual')\n",
        "plt.title('Confusion Matrix for NB')\n",
        "plt.show()\n"
      ],
      "metadata": {
        "colab": {
          "base_uri": "https://localhost:8080/",
          "height": 472
        },
        "id": "zoI8USqcKpEV",
        "outputId": "9ff56016-c098-4b6b-b1a1-bfee602316eb"
      },
      "execution_count": null,
      "outputs": [
        {
          "output_type": "display_data",
          "data": {
            "text/plain": [
              "<Figure size 640x480 with 2 Axes>"
            ],
            "image/png": "[encoded data removed]"
          },
          "metadata": {}
        }
      ]
    },
    {
      "cell_type": "markdown",
      "source": [
        "fewer TPs and TNs compared to Logistic Regression"
      ],
      "metadata": {
        "id": "WwVjlEiY-Fgk"
      }
    },
    {
      "cell_type": "code",
      "source": [
        "print('Classification Report')\n",
        "print(classification_report(y_test, y_pred_nb, target_names=['negative', 'positive']))\n",
        "\n",
        "acc = accuracy_score(y_test, y_pred_nb)\n",
        "print(f'Accuracy {acc:.4f}')"
      ],
      "metadata": {
        "colab": {
          "base_uri": "https://localhost:8080/"
        },
        "id": "aqt4jZf3PPIy",
        "outputId": "9c0c85aa-9055-4a14-93ad-e9f4630f4c20"
      },
      "execution_count": null,
      "outputs": [
        {
          "output_type": "stream",
          "name": "stdout",
          "text": [
            "Classification Report\n",
            "              precision    recall  f1-score   support\n",
            "\n",
            "    negative       0.87      0.89      0.88      2487\n",
            "    positive       0.89      0.87      0.88      2472\n",
            "\n",
            "    accuracy                           0.88      4959\n",
            "   macro avg       0.88      0.88      0.88      4959\n",
            "weighted avg       0.88      0.88      0.88      4959\n",
            "\n",
            "Accuracy 0.8804\n"
          ]
        }
      ]
    },
    {
      "cell_type": "markdown",
      "source": [
        "very balanced and powerful performance for both target classes, but slightly worse than Logistic Regression"
      ],
      "metadata": {
        "id": "7cPj_Q8p-QKl"
      }
    },
    {
      "cell_type": "markdown",
      "source": [
        "## Support Vector Classifier"
      ],
      "metadata": {
        "id": "D3DGZ_rVMf5E"
      }
    },
    {
      "cell_type": "code",
      "source": [
        "from sklearn.svm import LinearSVC\n",
        "\n",
        "svc = LinearSVC()\n",
        "model_svc = svc.fit(X_train, y_train)"
      ],
      "metadata": {
        "id": "kcdftlIoNCNa"
      },
      "execution_count": null,
      "outputs": []
    },
    {
      "cell_type": "code",
      "source": [
        "y_pred_svc = model_svc.predict(X_test)"
      ],
      "metadata": {
        "id": "y3rzUY8TODT2"
      },
      "execution_count": null,
      "outputs": []
    },
    {
      "cell_type": "code",
      "source": [
        "cm = confusion_matrix(y_test, y_pred_svc)\n",
        "sns.heatmap(cm, annot=True, fmt = 'd', cmap='Blues', xticklabels=le.classes_, yticklabels=le.classes_)\n",
        "plt.xlabel('Predicted')\n",
        "plt.ylabel('Actual')\n",
        "plt.title('Confusion Matrix for Support Vector Classifier')\n",
        "plt.show()"
      ],
      "metadata": {
        "colab": {
          "base_uri": "https://localhost:8080/",
          "height": 472
        },
        "id": "-dM7v1TrOJxc",
        "outputId": "634fbc3e-874f-40b1-f251-d32db1141d42"
      },
      "execution_count": null,
      "outputs": [
        {
          "output_type": "display_data",
          "data": {
            "text/plain": [
              "<Figure size 640x480 with 2 Axes>"
            ],
            "image/png": "[encoded data removed]"
          },
          "metadata": {}
        }
      ]
    },
    {
      "cell_type": "code",
      "source": [
        "print('Classificaiton Report')\n",
        "print(classification_report(y_test, y_pred_svc, target_names=['negative', 'positive']))\n",
        "\n",
        "acc = accuracy_score(y_test, y_pred_svc)\n",
        "print(f'Accuracy: {acc:.4f}')"
      ],
      "metadata": {
        "colab": {
          "base_uri": "https://localhost:8080/"
        },
        "id": "4YX2qaB-PR0c",
        "outputId": "911de02d-2e00-4762-a3e4-4163a7e2f641"
      },
      "execution_count": null,
      "outputs": [
        {
          "output_type": "stream",
          "name": "stdout",
          "text": [
            "Classificaiton Report\n",
            "              precision    recall  f1-score   support\n",
            "\n",
            "    negative       0.92      0.89      0.91      2487\n",
            "    positive       0.90      0.92      0.91      2472\n",
            "\n",
            "    accuracy                           0.91      4959\n",
            "   macro avg       0.91      0.91      0.91      4959\n",
            "weighted avg       0.91      0.91      0.91      4959\n",
            "\n",
            "Accuracy: 0.9060\n"
          ]
        }
      ]
    },
    {
      "cell_type": "markdown",
      "source": [
        "even better than Logistic Regression!"
      ],
      "metadata": {
        "id": "vHP9BV6aBqRm"
      }
    },
    {
      "cell_type": "markdown",
      "source": [
        "## Classifying reviews from [TMDB]() using trained models"
      ],
      "metadata": {
        "id": "F7BVNFAHQ810"
      }
    },
    {
      "cell_type": "code",
      "source": [
        "import requests\n",
        "\n",
        "API = \"here goes your API key from TMDB\"\n",
        "movie_id = 500  #choose movie using id\n",
        "url = f\"https://api.themoviedb.org/3/movie/{movie_id}\"\n",
        "params = {'api_key': API,\n",
        "          'language': 'en-US',\n",
        "          'page': 1}\n",
        "\n",
        "\n",
        "response = requests.get(url, params=params)\n",
        "data = response.json()\n",
        "\n",
        "response_movie = requests.get(url, params=params)\n",
        "response_reviews = requests.get(url+'/reviews', params=params)\n",
        "data_movie = response_movie.json()\n",
        "data_reviews = response_reviews.json()\n",
        "reviews = [review['content'] for review in data_reviews['results']]"
      ],
      "metadata": {
        "id": "SP2sZWQFQ8Om"
      },
      "execution_count": null,
      "outputs": []
    },
    {
      "cell_type": "code",
      "source": [
        "movie_title = data_movie.get('title', 'Unknown Title')\n",
        "print(f'Fetched reviews for {movie_title}')"
      ],
      "metadata": {
        "colab": {
          "base_uri": "https://localhost:8080/"
        },
        "id": "HsQnD7vXVMlO",
        "outputId": "2e4c3abc-80df-4484-8b11-7d7991278130"
      },
      "execution_count": null,
      "outputs": [
        {
          "output_type": "stream",
          "name": "stdout",
          "text": [
            "Fetched reviews for Reservoir Dogs\n"
          ]
        }
      ]
    },
    {
      "cell_type": "code",
      "source": [
        "def preprocessing_pipeline(text):\n",
        "  text = clean_text(text)\n",
        "  tokens = tokenize_text(text)\n",
        "  tokens_cleaned = remove_stopwords(tokens)\n",
        "  tokens_lemmatized = lemmatize_tokens(tokens_cleaned)\n",
        "  return ' '.join(tokens_lemmatized)"
      ],
      "metadata": {
        "id": "idHXJegWRB4r"
      },
      "execution_count": null,
      "outputs": []
    },
    {
      "cell_type": "code",
      "source": [
        "for i, review in enumerate(reviews):\n",
        "  print(f'{i+1}. {review}')"
      ],
      "metadata": {
        "colab": {
          "base_uri": "https://localhost:8080/"
        },
        "id": "OQnnzvDKb5ow",
        "outputId": "298e6664-733c-459d-905b-7adaf069b424"
      },
      "execution_count": null,
      "outputs": [
        {
          "output_type": "stream",
          "name": "stdout",
          "text": [
            "1. This unique take on the heist-film-gone-wrong was excellent--stylish and intelligently made, yet very funny and inexpensive. Tarantino's accolades from giving American cinema the resuscitation it needed mirrors what has happened, at least since the 70's, with Martin Scorsese's 'Mean Streets', both in terms of entertaining violence and usage of music in the scoring of films. I greatly thank Harvey Keitel for taking a chance on Tarantino back then--It paid off in spades.\n",
            "2. The cuss-oriented squabbles of lowlife crooks for 99 minutes (and no women)\r\n",
            "\t\r\n",
            "RELEASED IN 1992 and written/directed by Quentin Tarantino, \"Reservoir Dogs” is a crime drama/thriller about a diamond heist gone disastrously wrong in Los Angeles wherein the surviving thugs bicker back-and-forth in a warehouse about which of their members is a police informant. The main thieves are played by Harvey Keitel, Tim Roth, Steve Buscemi, Michael Madsen and Chris Penn while Lawrence Tierney appears as the old salt mastermind.\r\n",
            "\r\n",
            "This was Tarantino’s first feature film, costing only $1,200,000, and it has quirky glimmerings of future greatness, as seen in “Pulp Fiction” (1994), “Jackie Brown” (1997), “Kill Bill” (2003/2004), “Inglourious Basterds” (2009) and “Django Unchained” (2012), but “Reservoir” didn’t work for me. It’s hampered by a low-budget vibe, which I can handle, but not the uninteresting lowlife characters, their self-made conundrum, their interminably dull dialogue and the one-dimensional setting where about 80% of the story takes place in an old warehouse, not to mention no females in the main cast.\r\n",
            "\r\n",
            "Still, it’s interesting to observe Tarantino’s first serious stab at filmmaking and it has its moments of genuine entertainment. It’s a lesson on humble beginnings, which shows potential while not being up to snuff.\r\n",
            "\r\n",
            "THE FILM RUNS 1 hour, 39 minutes and was shot in Los Angeles & Burbank.\r\n",
            "\r\n",
            "GRADE: C-\n",
            "3. Nope, I didn't get the memo... After a jewellery heist goes wrong and the escaping funeral-attired hoodlums kill a couple of cops and one gets gut-shot in a car-jacking, they return to their hideout where they turn on each other with expletive-ridden venom. What now ensues is a recreation of the planning and execution of their raid, their introductions to each other and that all lays the seeds for this over-rated drama of brutal mistrust and duplicity. Tim Roth probably stands out as \"Mr. Orange\" but the rest of the fairly well established cast offer us little by way of sophistication or subtlety as they try to decide which - if any of them - informed the police. It's violent but so what - it's not Scorsese, nor does the story really hold up after it becomes glaringly obvious what is actually going to happen at the end. Quentin Tarantino's directorial debut has shock value, certainly, but I'm afraid I found the whole thing really quite dull. Sorry - but there's more to good writing and characterisation that loads of effing, jeffing, charm-free thuggery and bullets. Not for me!\n",
            "4. I don't get it. Feels like nothing happens the whole film. Cool to see Buscemi in this though, I didn't realize he was in such an early one of Tarantino's films.\n"
          ]
        }
      ]
    },
    {
      "cell_type": "code",
      "source": [
        "preprocessed_review = [preprocessing_pipeline(reviews[0])]"
      ],
      "metadata": {
        "id": "M6wctlCnZiLW"
      },
      "execution_count": null,
      "outputs": []
    },
    {
      "cell_type": "code",
      "source": [
        "review_vector = vectorizer.transform(preprocessed_review)"
      ],
      "metadata": {
        "id": "2WHjD84rUy-m"
      },
      "execution_count": null,
      "outputs": []
    },
    {
      "cell_type": "code",
      "source": [
        "prediction = model_lr.predict(review_vector)\n",
        "print(le.inverse_transform(prediction))"
      ],
      "metadata": {
        "colab": {
          "base_uri": "https://localhost:8080/"
        },
        "id": "V044zk-fV8lB",
        "outputId": "f950023b-866c-4e9b-cf6c-f8f3d7fbabf0"
      },
      "execution_count": null,
      "outputs": [
        {
          "output_type": "stream",
          "name": "stdout",
          "text": [
            "['positive']\n"
          ]
        }
      ]
    },
    {
      "cell_type": "markdown",
      "source": [
        "the review #1 \"This unique take on the heist-film-gone-wrong was excellent...\" is classified as positive by Logistic Regression"
      ],
      "metadata": {
        "id": "gDWK1AICVSSR"
      }
    },
    {
      "cell_type": "markdown",
      "source": [
        "## Let's add a quick interface using Gradio"
      ],
      "metadata": {
        "id": "-CP5R8RVHCPO"
      }
    },
    {
      "cell_type": "code",
      "source": [
        "import gradio as gr\n",
        "\n",
        "def predict_sentiment(review, model):\n",
        "  review_cleaned = preprocessing_pipeline(review)\n",
        "  review_vector = vectorizer.transform([review_cleaned])\n",
        "\n",
        "\n",
        "  if model == \"Logistic Regression\":\n",
        "    prediction = model_lr.predict(review_vector)\n",
        "  elif model == \"Naive Bayes\":\n",
        "    prediction = model_nb.predict(review_vector)\n",
        "  elif model == \"Support Vector Classifier\":\n",
        "    prediction = model_svc.predict(review_vector)\n",
        "  else:\n",
        "    raise ValueError(\"Unsupported model\")\n",
        "\n",
        "  return f\"this review is {le.inverse_transform(prediction)[0]}\""
      ],
      "metadata": {
        "id": "c9RL9SvIHBWa"
      },
      "execution_count": null,
      "outputs": []
    },
    {
      "cell_type": "code",
      "source": [
        "interface = gr.Interface(\n",
        "    fn=predict_sentiment,\n",
        "    inputs=[\n",
        "        gr.Textbox(lines=4, placeholder=\"Enter a movie review here...\"),\n",
        "        gr.Radio([\"Logistic Regression\", \"Naive Bayes\", \"Support Vector Classifier\"])],\n",
        "        outputs=\"text\",\n",
        "        title=\"Movie Review Classifier\",\n",
        "        description=\"Enter a review and choose a model to see the predicted sentiment (positive or negative)\")\n",
        "\n",
        "interface.launch()"
      ],
      "metadata": {
        "colab": {
          "base_uri": "https://localhost:8080/",
          "height": 646
        },
        "id": "7_inkGOSIl_i",
        "outputId": "88bfdd72-81d8-4ece-e579-3b4de411ed21"
      },
      "execution_count": null,
      "outputs": [
        {
          "output_type": "stream",
          "name": "stdout",
          "text": [
            "It looks like you are running Gradio on a hosted a Jupyter notebook. For the Gradio app to work, sharing must be enabled. Automatically setting `share=True` (you can turn this off by setting `share=False` in `launch()` explicitly).\n",
            "\n",
            "Colab notebook detected. To show errors in colab notebook, set debug=True in launch()\n",
            "* Running on public URL: https://65701fa2afc2546dd3.gradio.live\n",
            "\n",
            "This share link expires in 1 week. For free permanent hosting and GPU upgrades, run `gradio deploy` from the terminal in the working directory to deploy to Hugging Face Spaces (https://huggingface.co/spaces)\n"
          ]
        },
        {
          "output_type": "display_data",
          "data": {
            "text/plain": [
              "<IPython.core.display.HTML object>"
            ],
            "text/html": [
              "<div><iframe src=\"https://65701fa2afc2546dd3.gradio.live\" width=\"100%\" height=\"500\" allow=\"autoplay; camera; microphone; clipboard-read; clipboard-write;\" frameborder=\"0\" allowfullscreen></iframe></div>"
            ]
          },
          "metadata": {}
        },
        {
          "output_type": "execute_result",
          "data": {
            "text/plain": []
          },
          "metadata": {},
          "execution_count": 105
        }
      ]
    }
  ]
}